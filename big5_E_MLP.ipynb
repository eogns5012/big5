{
 "cells": [
  {
   "cell_type": "code",
   "execution_count": 157,
   "id": "42679d1e",
   "metadata": {},
   "outputs": [],
   "source": [
    "import os\n",
    "import pandas as pd\n",
    "import tensorflow as tf\n",
    "import random\n",
    "import matplotlib.pyplot as plt\n",
    "\n",
    "from sklearn.model_selection import train_test_split"
   ]
  },
  {
   "cell_type": "code",
   "execution_count": 3,
   "id": "d447d395",
   "metadata": {},
   "outputs": [],
   "source": [
    "big5 = pd.read_csv('./big5_scored.csv')"
   ]
  },
  {
   "cell_type": "code",
   "execution_count": 4,
   "id": "f544d5ba",
   "metadata": {},
   "outputs": [
    {
     "data": {
      "text/html": [
       "<div>\n",
       "<style scoped>\n",
       "    .dataframe tbody tr th:only-of-type {\n",
       "        vertical-align: middle;\n",
       "    }\n",
       "\n",
       "    .dataframe tbody tr th {\n",
       "        vertical-align: top;\n",
       "    }\n",
       "\n",
       "    .dataframe thead th {\n",
       "        text-align: right;\n",
       "    }\n",
       "</style>\n",
       "<table border=\"1\" class=\"dataframe\">\n",
       "  <thead>\n",
       "    <tr style=\"text-align: right;\">\n",
       "      <th></th>\n",
       "      <th>E1</th>\n",
       "      <th>E2</th>\n",
       "      <th>E3</th>\n",
       "      <th>E4</th>\n",
       "      <th>E5</th>\n",
       "      <th>E6</th>\n",
       "      <th>E7</th>\n",
       "      <th>E8</th>\n",
       "      <th>E9</th>\n",
       "      <th>E10</th>\n",
       "      <th>...</th>\n",
       "      <th>O6</th>\n",
       "      <th>O7</th>\n",
       "      <th>O8</th>\n",
       "      <th>O9</th>\n",
       "      <th>O10</th>\n",
       "      <th>E_SC</th>\n",
       "      <th>N_SC</th>\n",
       "      <th>A_SC</th>\n",
       "      <th>C_SC</th>\n",
       "      <th>O_SC</th>\n",
       "    </tr>\n",
       "  </thead>\n",
       "  <tbody>\n",
       "    <tr>\n",
       "      <th>0</th>\n",
       "      <td>4</td>\n",
       "      <td>4</td>\n",
       "      <td>5</td>\n",
       "      <td>4</td>\n",
       "      <td>5</td>\n",
       "      <td>5</td>\n",
       "      <td>4</td>\n",
       "      <td>3</td>\n",
       "      <td>5</td>\n",
       "      <td>5</td>\n",
       "      <td>...</td>\n",
       "      <td>5</td>\n",
       "      <td>4</td>\n",
       "      <td>2</td>\n",
       "      <td>5</td>\n",
       "      <td>5</td>\n",
       "      <td>44</td>\n",
       "      <td>49</td>\n",
       "      <td>46</td>\n",
       "      <td>47</td>\n",
       "      <td>43</td>\n",
       "    </tr>\n",
       "    <tr>\n",
       "      <th>1</th>\n",
       "      <td>2</td>\n",
       "      <td>4</td>\n",
       "      <td>3</td>\n",
       "      <td>3</td>\n",
       "      <td>3</td>\n",
       "      <td>3</td>\n",
       "      <td>1</td>\n",
       "      <td>1</td>\n",
       "      <td>1</td>\n",
       "      <td>1</td>\n",
       "      <td>...</td>\n",
       "      <td>3</td>\n",
       "      <td>3</td>\n",
       "      <td>1</td>\n",
       "      <td>3</td>\n",
       "      <td>2</td>\n",
       "      <td>22</td>\n",
       "      <td>29</td>\n",
       "      <td>35</td>\n",
       "      <td>42</td>\n",
       "      <td>26</td>\n",
       "    </tr>\n",
       "    <tr>\n",
       "      <th>2</th>\n",
       "      <td>5</td>\n",
       "      <td>5</td>\n",
       "      <td>1</td>\n",
       "      <td>2</td>\n",
       "      <td>5</td>\n",
       "      <td>5</td>\n",
       "      <td>1</td>\n",
       "      <td>1</td>\n",
       "      <td>5</td>\n",
       "      <td>5</td>\n",
       "      <td>...</td>\n",
       "      <td>5</td>\n",
       "      <td>5</td>\n",
       "      <td>5</td>\n",
       "      <td>5</td>\n",
       "      <td>5</td>\n",
       "      <td>35</td>\n",
       "      <td>14</td>\n",
       "      <td>38</td>\n",
       "      <td>49</td>\n",
       "      <td>45</td>\n",
       "    </tr>\n",
       "    <tr>\n",
       "      <th>3</th>\n",
       "      <td>2</td>\n",
       "      <td>1</td>\n",
       "      <td>2</td>\n",
       "      <td>2</td>\n",
       "      <td>3</td>\n",
       "      <td>2</td>\n",
       "      <td>3</td>\n",
       "      <td>2</td>\n",
       "      <td>4</td>\n",
       "      <td>1</td>\n",
       "      <td>...</td>\n",
       "      <td>4</td>\n",
       "      <td>5</td>\n",
       "      <td>2</td>\n",
       "      <td>5</td>\n",
       "      <td>5</td>\n",
       "      <td>22</td>\n",
       "      <td>17</td>\n",
       "      <td>37</td>\n",
       "      <td>26</td>\n",
       "      <td>41</td>\n",
       "    </tr>\n",
       "    <tr>\n",
       "      <th>4</th>\n",
       "      <td>3</td>\n",
       "      <td>5</td>\n",
       "      <td>3</td>\n",
       "      <td>3</td>\n",
       "      <td>3</td>\n",
       "      <td>5</td>\n",
       "      <td>3</td>\n",
       "      <td>5</td>\n",
       "      <td>3</td>\n",
       "      <td>1</td>\n",
       "      <td>...</td>\n",
       "      <td>5</td>\n",
       "      <td>3</td>\n",
       "      <td>1</td>\n",
       "      <td>5</td>\n",
       "      <td>3</td>\n",
       "      <td>34</td>\n",
       "      <td>30</td>\n",
       "      <td>44</td>\n",
       "      <td>34</td>\n",
       "      <td>34</td>\n",
       "    </tr>\n",
       "  </tbody>\n",
       "</table>\n",
       "<p>5 rows × 55 columns</p>\n",
       "</div>"
      ],
      "text/plain": [
       "   E1  E2  E3  E4  E5  E6  E7  E8  E9  E10  ...  O6  O7  O8  O9  O10  E_SC  \\\n",
       "0   4   4   5   4   5   5   4   3   5    5  ...   5   4   2   5    5    44   \n",
       "1   2   4   3   3   3   3   1   1   1    1  ...   3   3   1   3    2    22   \n",
       "2   5   5   1   2   5   5   1   1   5    5  ...   5   5   5   5    5    35   \n",
       "3   2   1   2   2   3   2   3   2   4    1  ...   4   5   2   5    5    22   \n",
       "4   3   5   3   3   3   5   3   5   3    1  ...   5   3   1   5    3    34   \n",
       "\n",
       "   N_SC  A_SC  C_SC  O_SC  \n",
       "0    49    46    47    43  \n",
       "1    29    35    42    26  \n",
       "2    14    38    49    45  \n",
       "3    17    37    26    41  \n",
       "4    30    44    34    34  \n",
       "\n",
       "[5 rows x 55 columns]"
      ]
     },
     "execution_count": 4,
     "metadata": {},
     "output_type": "execute_result"
    }
   ],
   "source": [
    "big5.head(5)"
   ]
  },
  {
   "cell_type": "code",
   "execution_count": 17,
   "id": "3af382f5",
   "metadata": {},
   "outputs": [
    {
     "name": "stderr",
     "output_type": "stream",
     "text": [
      "C:\\Users\\ajou\\AppData\\Local\\Temp\\ipykernel_16184\\612982162.py:2: SettingWithCopyWarning: \n",
      "A value is trying to be set on a copy of a slice from a DataFrame.\n",
      "Try using .loc[row_indexer,col_indexer] = value instead\n",
      "\n",
      "See the caveats in the documentation: https://pandas.pydata.org/pandas-docs/stable/user_guide/indexing.html#returning-a-view-versus-a-copy\n",
      "  E_df.loc[:,\"score\"] = big5.loc[:,\"E_SC\"]\n"
     ]
    }
   ],
   "source": [
    "E_df = big5.loc[:, \"E1\":\"E10\"]\n",
    "E_df.loc[:,\"score\"] = big5.loc[:,\"E_SC\"]"
   ]
  },
  {
   "cell_type": "code",
   "execution_count": 18,
   "id": "b0c193cc",
   "metadata": {},
   "outputs": [
    {
     "name": "stderr",
     "output_type": "stream",
     "text": [
      "C:\\Users\\ajou\\AppData\\Local\\Temp\\ipykernel_16184\\1806737882.py:9: SettingWithCopyWarning: \n",
      "A value is trying to be set on a copy of a slice from a DataFrame.\n",
      "Try using .loc[row_indexer,col_indexer] = value instead\n",
      "\n",
      "See the caveats in the documentation: https://pandas.pydata.org/pandas-docs/stable/user_guide/indexing.html#returning-a-view-versus-a-copy\n",
      "  E_df['C'] = categorys\n"
     ]
    }
   ],
   "source": [
    "categorys = []\n",
    "for val in E_df['score']:\n",
    "    if val < 30:\n",
    "        category = 0\n",
    "    else:\n",
    "        category = 1\n",
    "    categorys.append(category)\n",
    "    \n",
    "E_df['C'] = categorys"
   ]
  },
  {
   "cell_type": "code",
   "execution_count": 19,
   "id": "33865889",
   "metadata": {},
   "outputs": [
    {
     "data": {
      "text/html": [
       "<div>\n",
       "<style scoped>\n",
       "    .dataframe tbody tr th:only-of-type {\n",
       "        vertical-align: middle;\n",
       "    }\n",
       "\n",
       "    .dataframe tbody tr th {\n",
       "        vertical-align: top;\n",
       "    }\n",
       "\n",
       "    .dataframe thead th {\n",
       "        text-align: right;\n",
       "    }\n",
       "</style>\n",
       "<table border=\"1\" class=\"dataframe\">\n",
       "  <thead>\n",
       "    <tr style=\"text-align: right;\">\n",
       "      <th></th>\n",
       "      <th>E1</th>\n",
       "      <th>E2</th>\n",
       "      <th>E3</th>\n",
       "      <th>E4</th>\n",
       "      <th>E5</th>\n",
       "      <th>E6</th>\n",
       "      <th>E7</th>\n",
       "      <th>E8</th>\n",
       "      <th>E9</th>\n",
       "      <th>E10</th>\n",
       "      <th>score</th>\n",
       "      <th>C</th>\n",
       "    </tr>\n",
       "  </thead>\n",
       "  <tbody>\n",
       "    <tr>\n",
       "      <th>0</th>\n",
       "      <td>4</td>\n",
       "      <td>4</td>\n",
       "      <td>5</td>\n",
       "      <td>4</td>\n",
       "      <td>5</td>\n",
       "      <td>5</td>\n",
       "      <td>4</td>\n",
       "      <td>3</td>\n",
       "      <td>5</td>\n",
       "      <td>5</td>\n",
       "      <td>44</td>\n",
       "      <td>1</td>\n",
       "    </tr>\n",
       "    <tr>\n",
       "      <th>1</th>\n",
       "      <td>2</td>\n",
       "      <td>4</td>\n",
       "      <td>3</td>\n",
       "      <td>3</td>\n",
       "      <td>3</td>\n",
       "      <td>3</td>\n",
       "      <td>1</td>\n",
       "      <td>1</td>\n",
       "      <td>1</td>\n",
       "      <td>1</td>\n",
       "      <td>22</td>\n",
       "      <td>0</td>\n",
       "    </tr>\n",
       "    <tr>\n",
       "      <th>2</th>\n",
       "      <td>5</td>\n",
       "      <td>5</td>\n",
       "      <td>1</td>\n",
       "      <td>2</td>\n",
       "      <td>5</td>\n",
       "      <td>5</td>\n",
       "      <td>1</td>\n",
       "      <td>1</td>\n",
       "      <td>5</td>\n",
       "      <td>5</td>\n",
       "      <td>35</td>\n",
       "      <td>1</td>\n",
       "    </tr>\n",
       "    <tr>\n",
       "      <th>3</th>\n",
       "      <td>2</td>\n",
       "      <td>1</td>\n",
       "      <td>2</td>\n",
       "      <td>2</td>\n",
       "      <td>3</td>\n",
       "      <td>2</td>\n",
       "      <td>3</td>\n",
       "      <td>2</td>\n",
       "      <td>4</td>\n",
       "      <td>1</td>\n",
       "      <td>22</td>\n",
       "      <td>0</td>\n",
       "    </tr>\n",
       "    <tr>\n",
       "      <th>4</th>\n",
       "      <td>3</td>\n",
       "      <td>5</td>\n",
       "      <td>3</td>\n",
       "      <td>3</td>\n",
       "      <td>3</td>\n",
       "      <td>5</td>\n",
       "      <td>3</td>\n",
       "      <td>5</td>\n",
       "      <td>3</td>\n",
       "      <td>1</td>\n",
       "      <td>34</td>\n",
       "      <td>1</td>\n",
       "    </tr>\n",
       "  </tbody>\n",
       "</table>\n",
       "</div>"
      ],
      "text/plain": [
       "   E1  E2  E3  E4  E5  E6  E7  E8  E9  E10  score  C\n",
       "0   4   4   5   4   5   5   4   3   5    5     44  1\n",
       "1   2   4   3   3   3   3   1   1   1    1     22  0\n",
       "2   5   5   1   2   5   5   1   1   5    5     35  1\n",
       "3   2   1   2   2   3   2   3   2   4    1     22  0\n",
       "4   3   5   3   3   3   5   3   5   3    1     34  1"
      ]
     },
     "execution_count": 19,
     "metadata": {},
     "output_type": "execute_result"
    }
   ],
   "source": [
    "E_df.head()"
   ]
  },
  {
   "cell_type": "code",
   "execution_count": 21,
   "id": "5153db35",
   "metadata": {},
   "outputs": [],
   "source": [
    "n_features = E_df.loc[:, \"E1\":\"E10\"]\n",
    "target = E_df.pop('C')"
   ]
  },
  {
   "cell_type": "code",
   "execution_count": 125,
   "id": "2d4595b1",
   "metadata": {},
   "outputs": [],
   "source": [
    "x_train, x_test, y_train, y_test = train_test_split(n_features, target, shuffle = False, train_size=0.8)\n",
    "X_test = x_test.reset_index(drop=True)"
   ]
  },
  {
   "cell_type": "code",
   "execution_count": 126,
   "id": "f287586e",
   "metadata": {},
   "outputs": [],
   "source": [
    "normalizer = tf.keras.layers.Normalization(axis = -1)\n",
    "normalizer.adapt(x_train)"
   ]
  },
  {
   "cell_type": "code",
   "execution_count": 127,
   "id": "77857977",
   "metadata": {},
   "outputs": [
    {
     "data": {
      "text/plain": [
       "<tf.Tensor: shape=(3, 10), dtype=float32, numpy=\n",
       "array([[ 1.1177529 ,  0.5850355 ,  1.286567  ,  0.95662224,  1.2241367 ,\n",
       "         1.1735576 ,  0.7969921 ,  0.288679  ,  1.3574251 ,  1.9850346 ],\n",
       "       [-0.5061705 ,  0.5850355 , -0.32540873,  0.13651943, -0.32973522,\n",
       "        -0.43395394, -1.2980866 , -1.2873504 , -1.5037984 , -1.0775287 ],\n",
       "       [ 1.9297147 ,  1.3448085 , -1.9373845 , -0.6835834 ,  1.2241367 ,\n",
       "         1.1735576 , -1.2980866 , -1.2873504 ,  1.3574251 ,  1.9850346 ]],\n",
       "      dtype=float32)>"
      ]
     },
     "execution_count": 127,
     "metadata": {},
     "output_type": "execute_result"
    }
   ],
   "source": [
    "normalizer(x_train.iloc[:3])"
   ]
  },
  {
   "cell_type": "code",
   "execution_count": 128,
   "id": "9121f550",
   "metadata": {},
   "outputs": [],
   "source": [
    "# Hyperparameters\n",
    "\n",
    "batch_size = 32\n",
    "epoch = 50"
   ]
  },
  {
   "cell_type": "code",
   "execution_count": 142,
   "id": "b3a667f4",
   "metadata": {},
   "outputs": [],
   "source": [
    "def get_baslc_model(normalizer = None):\n",
    "    model = tf.keras.Sequential([\n",
    "        normalizer,\n",
    "        tf.keras.layers.Dense(20, activation = 'relu'),\n",
    "        tf.keras.layers.Dense(20, activation = 'relu'),\n",
    "        tf.keras.layers.Dense(1, activation = 'sigmoid')\n",
    "    ])\n",
    "    \n",
    "    model.compile(optimizer= 'SGD',\n",
    "                 loss = tf.keras.losses.BinaryCrossentropy(),\n",
    "                 metrics=['accuracy'])\n",
    "    return model"
   ]
  },
  {
   "cell_type": "code",
   "execution_count": 143,
   "id": "42e8b0d9",
   "metadata": {
    "scrolled": true
   },
   "outputs": [
    {
     "name": "stdout",
     "output_type": "stream",
     "text": [
      "Epoch 1/50\n",
      "493/493 [==============================] - 0s 500us/step - loss: 0.3109 - accuracy: 0.9180\n",
      "Epoch 2/50\n",
      "493/493 [==============================] - 0s 474us/step - loss: 0.1038 - accuracy: 0.9760\n",
      "Epoch 3/50\n",
      "493/493 [==============================] - 0s 492us/step - loss: 0.0657 - accuracy: 0.9859\n",
      "Epoch 4/50\n",
      "493/493 [==============================] - 0s 492us/step - loss: 0.0493 - accuracy: 0.9918\n",
      "Epoch 5/50\n",
      "493/493 [==============================] - 0s 464us/step - loss: 0.0399 - accuracy: 0.9946\n",
      "Epoch 6/50\n",
      "493/493 [==============================] - 0s 474us/step - loss: 0.0336 - accuracy: 0.9962\n",
      "Epoch 7/50\n",
      "493/493 [==============================] - 0s 482us/step - loss: 0.0289 - accuracy: 0.9972\n",
      "Epoch 8/50\n",
      "493/493 [==============================] - 0s 496us/step - loss: 0.0253 - accuracy: 0.9984\n",
      "Epoch 9/50\n",
      "493/493 [==============================] - 0s 462us/step - loss: 0.0223 - accuracy: 0.9990\n",
      "Epoch 10/50\n",
      "493/493 [==============================] - 0s 470us/step - loss: 0.0198 - accuracy: 0.9990\n",
      "Epoch 11/50\n",
      "493/493 [==============================] - 0s 474us/step - loss: 0.0177 - accuracy: 0.9992\n",
      "Epoch 12/50\n",
      "493/493 [==============================] - 0s 500us/step - loss: 0.0159 - accuracy: 0.9994\n",
      "Epoch 13/50\n",
      "493/493 [==============================] - 0s 490us/step - loss: 0.0143 - accuracy: 0.9996\n",
      "Epoch 14/50\n",
      "493/493 [==============================] - 0s 466us/step - loss: 0.0130 - accuracy: 0.9997\n",
      "Epoch 15/50\n",
      "493/493 [==============================] - 0s 468us/step - loss: 0.0118 - accuracy: 0.9998\n",
      "Epoch 16/50\n",
      "493/493 [==============================] - 0s 490us/step - loss: 0.0107 - accuracy: 0.9997\n",
      "Epoch 17/50\n",
      "493/493 [==============================] - 0s 470us/step - loss: 0.0098 - accuracy: 0.9999\n",
      "Epoch 18/50\n",
      "493/493 [==============================] - 0s 470us/step - loss: 0.0090 - accuracy: 0.9999\n",
      "Epoch 19/50\n",
      "493/493 [==============================] - 0s 470us/step - loss: 0.0082 - accuracy: 0.9999\n",
      "Epoch 20/50\n",
      "493/493 [==============================] - 0s 488us/step - loss: 0.0076 - accuracy: 0.9999\n",
      "Epoch 21/50\n",
      "493/493 [==============================] - 0s 460us/step - loss: 0.0070 - accuracy: 0.9999\n",
      "Epoch 22/50\n",
      "493/493 [==============================] - 0s 466us/step - loss: 0.0065 - accuracy: 0.9999\n",
      "Epoch 23/50\n",
      "493/493 [==============================] - 0s 481us/step - loss: 0.0060 - accuracy: 0.9999\n",
      "Epoch 24/50\n",
      "493/493 [==============================] - 0s 492us/step - loss: 0.0056 - accuracy: 0.9999\n",
      "Epoch 25/50\n",
      "493/493 [==============================] - 0s 496us/step - loss: 0.0052 - accuracy: 0.9999\n",
      "Epoch 26/50\n",
      "493/493 [==============================] - 0s 470us/step - loss: 0.0049 - accuracy: 0.9999\n",
      "Epoch 27/50\n",
      "493/493 [==============================] - 0s 464us/step - loss: 0.0046 - accuracy: 0.9999\n",
      "Epoch 28/50\n",
      "493/493 [==============================] - 0s 466us/step - loss: 0.0043 - accuracy: 0.9999\n",
      "Epoch 29/50\n",
      "493/493 [==============================] - 0s 496us/step - loss: 0.0041 - accuracy: 0.9999\n",
      "Epoch 30/50\n",
      "493/493 [==============================] - 0s 460us/step - loss: 0.0038 - accuracy: 0.9999\n",
      "Epoch 31/50\n",
      "493/493 [==============================] - 0s 470us/step - loss: 0.0036 - accuracy: 1.0000\n",
      "Epoch 32/50\n",
      "493/493 [==============================] - 0s 482us/step - loss: 0.0034 - accuracy: 1.0000\n",
      "Epoch 33/50\n",
      "493/493 [==============================] - 0s 502us/step - loss: 0.0032 - accuracy: 1.0000\n",
      "Epoch 34/50\n",
      "493/493 [==============================] - 0s 464us/step - loss: 0.0031 - accuracy: 1.0000\n",
      "Epoch 35/50\n",
      "493/493 [==============================] - 0s 478us/step - loss: 0.0029 - accuracy: 1.0000\n",
      "Epoch 36/50\n",
      "493/493 [==============================] - 0s 462us/step - loss: 0.0028 - accuracy: 1.0000\n",
      "Epoch 37/50\n",
      "493/493 [==============================] - 0s 502us/step - loss: 0.0026 - accuracy: 1.0000\n",
      "Epoch 38/50\n",
      "493/493 [==============================] - 0s 472us/step - loss: 0.0025 - accuracy: 1.0000\n",
      "Epoch 39/50\n",
      "493/493 [==============================] - 0s 476us/step - loss: 0.0024 - accuracy: 1.0000\n",
      "Epoch 40/50\n",
      "493/493 [==============================] - 0s 474us/step - loss: 0.0023 - accuracy: 1.0000\n",
      "Epoch 41/50\n",
      "493/493 [==============================] - 0s 486us/step - loss: 0.0022 - accuracy: 1.0000\n",
      "Epoch 42/50\n",
      "493/493 [==============================] - 0s 474us/step - loss: 0.0021 - accuracy: 1.0000\n",
      "Epoch 43/50\n",
      "493/493 [==============================] - 0s 476us/step - loss: 0.0020 - accuracy: 1.0000\n",
      "Epoch 44/50\n",
      "493/493 [==============================] - 0s 482us/step - loss: 0.0020 - accuracy: 1.0000\n",
      "Epoch 45/50\n",
      "493/493 [==============================] - 0s 468us/step - loss: 0.0019 - accuracy: 1.0000\n",
      "Epoch 46/50\n",
      "493/493 [==============================] - 0s 505us/step - loss: 0.0018 - accuracy: 1.0000\n",
      "Epoch 47/50\n",
      "493/493 [==============================] - 0s 466us/step - loss: 0.0017 - accuracy: 1.0000\n",
      "Epoch 48/50\n",
      "493/493 [==============================] - 0s 472us/step - loss: 0.0017 - accuracy: 1.0000\n",
      "Epoch 49/50\n",
      "493/493 [==============================] - 0s 474us/step - loss: 0.0016 - accuracy: 1.0000\n",
      "Epoch 50/50\n",
      "493/493 [==============================] - 0s 492us/step - loss: 0.0016 - accuracy: 1.0000\n"
     ]
    },
    {
     "data": {
      "text/plain": [
       "<keras.callbacks.History at 0x16ba0898f70>"
      ]
     },
     "execution_count": 143,
     "metadata": {},
     "output_type": "execute_result"
    }
   ],
   "source": [
    "model = get_baslc_model(normalizer=normalizer)\n",
    "model.fit(x_train, y_train,\n",
    "          epochs = epoch, batch_size = batch_size)"
   ]
  },
  {
   "cell_type": "code",
   "execution_count": 144,
   "id": "becd565a",
   "metadata": {},
   "outputs": [
    {
     "name": "stdout",
     "output_type": "stream",
     "text": [
      "3944/3944 [==============================] - 1s 341us/step\n"
     ]
    }
   ],
   "source": [
    "y_pred = model.predict(X_test, batch_size= 1)"
   ]
  },
  {
   "cell_type": "code",
   "execution_count": 145,
   "id": "c1895fb6",
   "metadata": {},
   "outputs": [],
   "source": [
    "y_pred_c = []\n",
    "for i in y_pred:\n",
    "    if i < 0.5:\n",
    "        val = 0\n",
    "    else:\n",
    "        val = 1\n",
    "    y_pred_c.append(val)"
   ]
  },
  {
   "cell_type": "code",
   "execution_count": 146,
   "id": "bfd15adf",
   "metadata": {
    "scrolled": true
   },
   "outputs": [
    {
     "name": "stdout",
     "output_type": "stream",
     "text": [
      "총 테스트 개수 : 3944, 오류개수 : 0\n",
      "정확도 : 1.00\n"
     ]
    }
   ],
   "source": [
    "print('총 테스트 개수 : %d, 오류개수 : %d' %(len(y_test), (y_test != y_pred_c).sum()))\n",
    "print('정확도 : %.2f' %((len(y_test) - (y_test != y_pred_c).sum()) / len(y_test)))"
   ]
  },
  {
   "cell_type": "code",
   "execution_count": 147,
   "id": "26dbad72",
   "metadata": {},
   "outputs": [],
   "source": [
    "test_accuracy = (len(y_test) - (y_test != y_pred_c).sum()) / len(y_test)"
   ]
  },
  {
   "cell_type": "code",
   "execution_count": 148,
   "id": "131edb66",
   "metadata": {
    "scrolled": false
   },
   "outputs": [
    {
     "data": {
      "text/html": [
       "<div>\n",
       "<style scoped>\n",
       "    .dataframe tbody tr th:only-of-type {\n",
       "        vertical-align: middle;\n",
       "    }\n",
       "\n",
       "    .dataframe tbody tr th {\n",
       "        vertical-align: top;\n",
       "    }\n",
       "\n",
       "    .dataframe thead th {\n",
       "        text-align: right;\n",
       "    }\n",
       "</style>\n",
       "<table border=\"1\" class=\"dataframe\">\n",
       "  <thead>\n",
       "    <tr style=\"text-align: right;\">\n",
       "      <th></th>\n",
       "      <th>E1</th>\n",
       "      <th>E2</th>\n",
       "      <th>E3</th>\n",
       "      <th>E4</th>\n",
       "      <th>E5</th>\n",
       "      <th>E6</th>\n",
       "      <th>E7</th>\n",
       "      <th>E8</th>\n",
       "      <th>E9</th>\n",
       "      <th>E10</th>\n",
       "    </tr>\n",
       "  </thead>\n",
       "  <tbody>\n",
       "    <tr>\n",
       "      <th>0</th>\n",
       "      <td>5</td>\n",
       "      <td>5</td>\n",
       "      <td>5</td>\n",
       "      <td>5</td>\n",
       "      <td>4</td>\n",
       "      <td>5</td>\n",
       "      <td>5</td>\n",
       "      <td>5</td>\n",
       "      <td>5</td>\n",
       "      <td>4</td>\n",
       "    </tr>\n",
       "    <tr>\n",
       "      <th>1</th>\n",
       "      <td>2</td>\n",
       "      <td>3</td>\n",
       "      <td>4</td>\n",
       "      <td>1</td>\n",
       "      <td>4</td>\n",
       "      <td>3</td>\n",
       "      <td>3</td>\n",
       "      <td>1</td>\n",
       "      <td>1</td>\n",
       "      <td>2</td>\n",
       "    </tr>\n",
       "    <tr>\n",
       "      <th>2</th>\n",
       "      <td>1</td>\n",
       "      <td>4</td>\n",
       "      <td>3</td>\n",
       "      <td>4</td>\n",
       "      <td>3</td>\n",
       "      <td>3</td>\n",
       "      <td>2</td>\n",
       "      <td>3</td>\n",
       "      <td>3</td>\n",
       "      <td>1</td>\n",
       "    </tr>\n",
       "    <tr>\n",
       "      <th>3</th>\n",
       "      <td>4</td>\n",
       "      <td>5</td>\n",
       "      <td>4</td>\n",
       "      <td>3</td>\n",
       "      <td>4</td>\n",
       "      <td>4</td>\n",
       "      <td>5</td>\n",
       "      <td>4</td>\n",
       "      <td>5</td>\n",
       "      <td>4</td>\n",
       "    </tr>\n",
       "    <tr>\n",
       "      <th>4</th>\n",
       "      <td>2</td>\n",
       "      <td>1</td>\n",
       "      <td>3</td>\n",
       "      <td>3</td>\n",
       "      <td>2</td>\n",
       "      <td>2</td>\n",
       "      <td>1</td>\n",
       "      <td>2</td>\n",
       "      <td>3</td>\n",
       "      <td>1</td>\n",
       "    </tr>\n",
       "    <tr>\n",
       "      <th>...</th>\n",
       "      <td>...</td>\n",
       "      <td>...</td>\n",
       "      <td>...</td>\n",
       "      <td>...</td>\n",
       "      <td>...</td>\n",
       "      <td>...</td>\n",
       "      <td>...</td>\n",
       "      <td>...</td>\n",
       "      <td>...</td>\n",
       "      <td>...</td>\n",
       "    </tr>\n",
       "    <tr>\n",
       "      <th>3939</th>\n",
       "      <td>1</td>\n",
       "      <td>2</td>\n",
       "      <td>3</td>\n",
       "      <td>1</td>\n",
       "      <td>4</td>\n",
       "      <td>3</td>\n",
       "      <td>1</td>\n",
       "      <td>4</td>\n",
       "      <td>1</td>\n",
       "      <td>1</td>\n",
       "    </tr>\n",
       "    <tr>\n",
       "      <th>3940</th>\n",
       "      <td>2</td>\n",
       "      <td>3</td>\n",
       "      <td>2</td>\n",
       "      <td>3</td>\n",
       "      <td>2</td>\n",
       "      <td>3</td>\n",
       "      <td>2</td>\n",
       "      <td>2</td>\n",
       "      <td>4</td>\n",
       "      <td>2</td>\n",
       "    </tr>\n",
       "    <tr>\n",
       "      <th>3941</th>\n",
       "      <td>2</td>\n",
       "      <td>1</td>\n",
       "      <td>4</td>\n",
       "      <td>1</td>\n",
       "      <td>5</td>\n",
       "      <td>1</td>\n",
       "      <td>1</td>\n",
       "      <td>4</td>\n",
       "      <td>1</td>\n",
       "      <td>1</td>\n",
       "    </tr>\n",
       "    <tr>\n",
       "      <th>3942</th>\n",
       "      <td>1</td>\n",
       "      <td>2</td>\n",
       "      <td>2</td>\n",
       "      <td>3</td>\n",
       "      <td>2</td>\n",
       "      <td>2</td>\n",
       "      <td>1</td>\n",
       "      <td>3</td>\n",
       "      <td>4</td>\n",
       "      <td>1</td>\n",
       "    </tr>\n",
       "    <tr>\n",
       "      <th>3943</th>\n",
       "      <td>2</td>\n",
       "      <td>3</td>\n",
       "      <td>1</td>\n",
       "      <td>1</td>\n",
       "      <td>3</td>\n",
       "      <td>3</td>\n",
       "      <td>3</td>\n",
       "      <td>4</td>\n",
       "      <td>2</td>\n",
       "      <td>2</td>\n",
       "    </tr>\n",
       "  </tbody>\n",
       "</table>\n",
       "<p>3944 rows × 10 columns</p>\n",
       "</div>"
      ],
      "text/plain": [
       "      E1  E2  E3  E4  E5  E6  E7  E8  E9  E10\n",
       "0      5   5   5   5   4   5   5   5   5    4\n",
       "1      2   3   4   1   4   3   3   1   1    2\n",
       "2      1   4   3   4   3   3   2   3   3    1\n",
       "3      4   5   4   3   4   4   5   4   5    4\n",
       "4      2   1   3   3   2   2   1   2   3    1\n",
       "...   ..  ..  ..  ..  ..  ..  ..  ..  ..  ...\n",
       "3939   1   2   3   1   4   3   1   4   1    1\n",
       "3940   2   3   2   3   2   3   2   2   4    2\n",
       "3941   2   1   4   1   5   1   1   4   1    1\n",
       "3942   1   2   2   3   2   2   1   3   4    1\n",
       "3943   2   3   1   1   3   3   3   4   2    2\n",
       "\n",
       "[3944 rows x 10 columns]"
      ]
     },
     "execution_count": 148,
     "metadata": {},
     "output_type": "execute_result"
    }
   ],
   "source": [
    "X_test"
   ]
  },
  {
   "cell_type": "code",
   "execution_count": 149,
   "id": "865dcd28",
   "metadata": {
    "scrolled": true
   },
   "outputs": [
    {
     "name": "stdout",
     "output_type": "stream",
     "text": [
      "3944/3944 [==============================] - 1s 336us/step\n",
      "3944/3944 [==============================] - 1s 338us/step\n",
      "3944/3944 [==============================] - 1s 348us/step\n",
      "3944/3944 [==============================] - 1s 352us/step\n",
      "3944/3944 [==============================] - 1s 349us/step\n",
      "3944/3944 [==============================] - 1s 369us/step\n",
      "3944/3944 [==============================] - 1s 346us/step\n",
      "3944/3944 [==============================] - 1s 359us/step\n",
      "3944/3944 [==============================] - 1s 344us/step\n",
      "3944/3944 [==============================] - 1s 355us/step\n",
      "{'E1': 0.9482758620689655, 'E2': 0.9505578093306288, 'E3': 0.954107505070994, 'E4': 0.9518255578093306, 'E5': 0.9505578093306288, 'E6': 0.952079107505071, 'E7': 0.9434584178498986, 'E8': 0.9530933062880325, 'E9': 0.9419371196754563, 'E10': 0.9513184584178499}\n"
     ]
    }
   ],
   "source": [
    "shuffled_scores = {}\n",
    "\n",
    "for feature in X_test.columns:\n",
    "    copy = X_test.copy()\n",
    "    random.shuffle(copy.loc[:, feature])\n",
    "#     print(copy)\n",
    "    shuffled_pred = model.predict(copy, batch_size = 1)\n",
    "    \n",
    "    shuffled_pred_c = []\n",
    "    for i in shuffled_pred:\n",
    "        if i < 0.5:\n",
    "            val = 0\n",
    "        else:\n",
    "            val = 1\n",
    "        shuffled_pred_c.append(val)\n",
    "    \n",
    "    shuffled_score = (len(y_test) - (y_test != shuffled_pred_c).sum()) / len(y_test)\n",
    "    shuffled_scores[feature] = shuffled_score\n",
    "\n",
    "print(shuffled_scores)"
   ]
  },
  {
   "cell_type": "code",
   "execution_count": 150,
   "id": "9487e795",
   "metadata": {
    "scrolled": true
   },
   "outputs": [
    {
     "name": "stdout",
     "output_type": "stream",
     "text": [
      "Original Classfication Accuracy : 1.0000\n",
      "1 high importance shuffled Accuracy : E3 0.9541\n",
      "2 high importance shuffled Accuracy : E8 0.9531\n",
      "3 high importance shuffled Accuracy : E6 0.9521\n",
      "4 high importance shuffled Accuracy : E4 0.9518\n",
      "5 high importance shuffled Accuracy : E10 0.9513\n",
      "6 high importance shuffled Accuracy : E2 0.9506\n",
      "7 high importance shuffled Accuracy : E5 0.9506\n",
      "8 high importance shuffled Accuracy : E1 0.9483\n",
      "9 high importance shuffled Accuracy : E7 0.9435\n",
      "10 high importance shuffled Accuracy : E9 0.9419\n"
     ]
    }
   ],
   "source": [
    "print(\"Original Classfication Accuracy : %.4f\"%(test_accuracy))\n",
    "for n in range(len(X_test.columns)):\n",
    "    print(\"%s high importance shuffled Accuracy : %s %.4f\" %(n+1, sorted(shuffled_scores.items(), key=lambda item : item[1], reverse = True)[n][0], sorted(shuffled_scores.items(), key=lambda item : item[1], reverse = True)[n][1]))"
   ]
  },
  {
   "cell_type": "code",
   "execution_count": 166,
   "id": "ecca08b5",
   "metadata": {
    "scrolled": true
   },
   "outputs": [
    {
     "name": "stdout",
     "output_type": "stream",
     "text": [
      "3944/3944 [==============================] - 1s 339us/step\n",
      "총 테스트 개수 : 3944, 오류개수 : 735\n",
      "정확도 : 0.81\n"
     ]
    }
   ],
   "source": [
    "E2_x_train = x_train.loc[:, [\"E3\", \"E8\"]]\n",
    "E2_x_test = x_test.loc[:, [\"E3\", \"E8\"]]\n",
    "\n",
    "new_normalizer = tf.keras.layers.Normalization(axis = -1)\n",
    "new_normalizer.adapt(E2_x_train)\n",
    "\n",
    "new_model = get_baslc_model(normalizer=new_normalizer)\n",
    "hist = new_model.fit(E2_x_train, y_train, epochs = 500, batch_size = batch_size, verbose=0)\n",
    "\n",
    "new_y_pred = new_model.predict(E2_x_test, batch_size= 1)\n",
    "\n",
    "new_y_pred_c = []\n",
    "for i in new_y_pred:\n",
    "    if i < 0.5:\n",
    "        val = 0\n",
    "    else:\n",
    "        val = 1\n",
    "    new_y_pred_c.append(val)\n",
    "    \n",
    "print('총 테스트 개수 : %d, 오류개수 : %d' %(len(y_test), (y_test != new_y_pred_c).sum()))\n",
    "print('정확도 : %.2f' %((len(y_test) - (y_test != new_y_pred_c).sum()) / len(y_test)))"
   ]
  },
  {
   "cell_type": "code",
   "execution_count": 167,
   "id": "fec8bff0",
   "metadata": {},
   "outputs": [
    {
     "data": {
      "image/png": "[encoded data removed]",
      "text/plain": [
       "<Figure size 1200x1000 with 1 Axes>"
      ]
     },
     "metadata": {},
     "output_type": "display_data"
    }
   ],
   "source": [
    "plt.figure(figsize = (12, 10))\n",
    "plt.plot(hist.history['loss'])\n",
    "plt.xlabel('epochs')\n",
    "plt.ylabel('loss')\n",
    "plt.show()"
   ]
  },
  {
   "cell_type": "code",
   "execution_count": 168,
   "id": "bbd0986c",
   "metadata": {
    "scrolled": false
   },
   "outputs": [
    {
     "name": "stdout",
     "output_type": "stream",
     "text": [
      "3944/3944 [==============================] - 1s 347us/step\n",
      "총 테스트 개수 : 3944, 오류개수 : 524\n",
      "정확도 : 0.87\n"
     ]
    },
    {
     "data": {
      "image/png": "[encoded data removed]",
      "text/plain": [
       "<Figure size 1200x1000 with 1 Axes>"
      ]
     },
     "metadata": {},
     "output_type": "display_data"
    }
   ],
   "source": [
    "E3_x_train = x_train.loc[:, [\"E3\", \"E8\",\"E6\"]]\n",
    "E3_x_test = x_test.loc[:, [\"E3\", \"E8\", \"E6\"]]\n",
    "\n",
    "new_normalizer = tf.keras.layers.Normalization(axis = -1)\n",
    "new_normalizer.adapt(E3_x_train)\n",
    "\n",
    "new_model = get_baslc_model(normalizer=new_normalizer)\n",
    "hist = new_model.fit(E3_x_train, y_train, epochs = 500, batch_size = batch_size, verbose=0)\n",
    "\n",
    "new_y_pred = new_model.predict(E3_x_test, batch_size= 1)\n",
    "\n",
    "new_y_pred_c = []\n",
    "for i in new_y_pred:\n",
    "    if i < 0.5:\n",
    "        val = 0\n",
    "    else:\n",
    "        val = 1\n",
    "    new_y_pred_c.append(val)\n",
    "    \n",
    "print('총 테스트 개수 : %d, 오류개수 : %d' %(len(y_test), (y_test != new_y_pred_c).sum()))\n",
    "print('정확도 : %.2f' %((len(y_test) - (y_test != new_y_pred_c).sum()) / len(y_test)))\n",
    "\n",
    "plt.figure(figsize = (10, 8))\n",
    "plt.plot(hist.history['loss'])\n",
    "plt.xlabel('epochs')\n",
    "plt.ylabel('loss')\n",
    "plt.show()"
   ]
  },
  {
   "cell_type": "code",
   "execution_count": 172,
   "id": "5c0800fd",
   "metadata": {},
   "outputs": [
    {
     "name": "stdout",
     "output_type": "stream",
     "text": [
      "3944/3944 [==============================] - 1s 344us/step\n",
      "총 테스트 개수 : 3944, 오류개수 : 428\n",
      "정확도 : 0.89\n"
     ]
    },
    {
     "data": {
      "image/png": "[encoded data removed]",
      "text/plain": [
       "<Figure size 1000x800 with 1 Axes>"
      ]
     },
     "metadata": {},
     "output_type": "display_data"
    }
   ],
   "source": [
    "E4_x_train = x_train.loc[:, [\"E3\", \"E8\",\"E6\", \"E4\"]]\n",
    "E4_x_test = x_test.loc[:, [\"E3\", \"E8\", \"E6\", \"E4\"]]\n",
    "\n",
    "new_normalizer = tf.keras.layers.Normalization(axis = -1)\n",
    "new_normalizer.adapt(E4_x_train)\n",
    "\n",
    "new_model = get_baslc_model(normalizer=new_normalizer)\n",
    "hist = new_model.fit(E4_x_train, y_train, epochs = 500, batch_size = batch_size, verbose=0)\n",
    "\n",
    "new_y_pred = new_model.predict(E4_x_test, batch_size= 1)\n",
    "\n",
    "new_y_pred_c = []\n",
    "for i in new_y_pred:\n",
    "    if i < 0.5:\n",
    "        val = 0\n",
    "    else:\n",
    "        val = 1\n",
    "    new_y_pred_c.append(val)\n",
    "    \n",
    "print('총 테스트 개수 : %d, 오류개수 : %d' %(len(y_test), (y_test != new_y_pred_c).sum()))\n",
    "print('정확도 : %.2f' %((len(y_test) - (y_test != new_y_pred_c).sum()) / len(y_test)))\n",
    "\n",
    "plt.figure(figsize = (10, 8))\n",
    "plt.plot(hist.history['loss'])\n",
    "plt.xlabel('epochs')\n",
    "plt.ylabel('loss')\n",
    "plt.show()"
   ]
  },
  {
   "cell_type": "code",
   "execution_count": 173,
   "id": "d8b1db2a",
   "metadata": {},
   "outputs": [
    {
     "name": "stdout",
     "output_type": "stream",
     "text": [
      "3944/3944 [==============================] - 1s 342us/step\n",
      "총 테스트 개수 : 3944, 오류개수 : 364\n",
      "정확도 : 0.91\n"
     ]
    },
    {
     "data": {
      "image/png": "[encoded data removed]",
      "text/plain": [
       "<Figure size 1000x800 with 1 Axes>"
      ]
     },
     "metadata": {},
     "output_type": "display_data"
    }
   ],
   "source": [
    "E5_x_train = x_train.loc[:, [\"E3\", \"E8\",\"E6\", \"E4\", \"E10\"]]\n",
    "E5_x_test = x_test.loc[:, [\"E3\", \"E8\", \"E6\", \"E4\", \"E10\"]]\n",
    "\n",
    "new_normalizer = tf.keras.layers.Normalization(axis = -1)\n",
    "new_normalizer.adapt(E5_x_train)\n",
    "\n",
    "new_model = get_baslc_model(normalizer=new_normalizer)\n",
    "hist = new_model.fit(E5_x_train, y_train, epochs = 500, batch_size = batch_size, verbose=0)\n",
    "\n",
    "new_y_pred = new_model.predict(E5_x_test, batch_size= 1)\n",
    "\n",
    "new_y_pred_c = []\n",
    "for i in new_y_pred:\n",
    "    if i < 0.5:\n",
    "        val = 0\n",
    "    else:\n",
    "        val = 1\n",
    "    new_y_pred_c.append(val)\n",
    "    \n",
    "print('총 테스트 개수 : %d, 오류개수 : %d' %(len(y_test), (y_test != new_y_pred_c).sum()))\n",
    "print('정확도 : %.2f' %((len(y_test) - (y_test != new_y_pred_c).sum()) / len(y_test)))\n",
    "\n",
    "plt.figure(figsize = (10, 8))\n",
    "plt.plot(hist.history['loss'])\n",
    "plt.xlabel('epochs')\n",
    "plt.ylabel('loss')\n",
    "plt.show()"
   ]
  },
  {
   "cell_type": "code",
   "execution_count": null,
   "id": "a14e99aa",
   "metadata": {},
   "outputs": [],
   "source": []
  }
 ],
 "metadata": {
  "kernelspec": {
   "display_name": "Python 3 (ipykernel)",
   "language": "python",
   "name": "python3"
  },
  "language_info": {
   "codemirror_mode": {
    "name": "ipython",
    "version": 3
   },
   "file_extension": ".py",
   "mimetype": "text/x-python",
   "name": "python",
   "nbconvert_exporter": "python",
   "pygments_lexer": "ipython3",
   "version": "3.9.13"
  }
 },
 "nbformat": 4,
 "nbformat_minor": 5
}

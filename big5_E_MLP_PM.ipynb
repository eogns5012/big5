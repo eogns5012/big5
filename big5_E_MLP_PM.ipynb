{
 "cells": [
  {
   "cell_type": "code",
   "execution_count": 1,
   "metadata": {},
   "outputs": [],
   "source": [
    "import os\n",
    "import pandas as pd\n",
    "import tensorflow as tf\n",
    "import random\n",
    "import matplotlib.pyplot as plt\n",
    "\n",
    "from sklearn.model_selection import train_test_split"
   ]
  },
  {
   "cell_type": "code",
   "execution_count": 2,
   "metadata": {},
   "outputs": [
    {
     "data": {
      "text/plain": [
       "'2.11.0'"
      ]
     },
     "execution_count": 2,
     "metadata": {},
     "output_type": "execute_result"
    }
   ],
   "source": [
    "tf.__version__"
   ]
  },
  {
   "cell_type": "code",
   "execution_count": 3,
   "metadata": {},
   "outputs": [],
   "source": [
    "big5 = pd.read_csv('./big5_scored.csv')"
   ]
  },
  {
   "cell_type": "code",
   "execution_count": 4,
   "metadata": {},
   "outputs": [
    {
     "data": {
      "text/html": [
       "<div>\n",
       "<style scoped>\n",
       "    .dataframe tbody tr th:only-of-type {\n",
       "        vertical-align: middle;\n",
       "    }\n",
       "\n",
       "    .dataframe tbody tr th {\n",
       "        vertical-align: top;\n",
       "    }\n",
       "\n",
       "    .dataframe thead th {\n",
       "        text-align: right;\n",
       "    }\n",
       "</style>\n",
       "<table border=\"1\" class=\"dataframe\">\n",
       "  <thead>\n",
       "    <tr style=\"text-align: right;\">\n",
       "      <th></th>\n",
       "      <th>E1</th>\n",
       "      <th>E2</th>\n",
       "      <th>E3</th>\n",
       "      <th>E4</th>\n",
       "      <th>E5</th>\n",
       "      <th>E6</th>\n",
       "      <th>E7</th>\n",
       "      <th>E8</th>\n",
       "      <th>E9</th>\n",
       "      <th>E10</th>\n",
       "      <th>...</th>\n",
       "      <th>O6</th>\n",
       "      <th>O7</th>\n",
       "      <th>O8</th>\n",
       "      <th>O9</th>\n",
       "      <th>O10</th>\n",
       "      <th>E_SC</th>\n",
       "      <th>N_SC</th>\n",
       "      <th>A_SC</th>\n",
       "      <th>C_SC</th>\n",
       "      <th>O_SC</th>\n",
       "    </tr>\n",
       "  </thead>\n",
       "  <tbody>\n",
       "    <tr>\n",
       "      <th>0</th>\n",
       "      <td>4</td>\n",
       "      <td>4</td>\n",
       "      <td>5</td>\n",
       "      <td>4</td>\n",
       "      <td>5</td>\n",
       "      <td>5</td>\n",
       "      <td>4</td>\n",
       "      <td>3</td>\n",
       "      <td>5</td>\n",
       "      <td>5</td>\n",
       "      <td>...</td>\n",
       "      <td>5</td>\n",
       "      <td>4</td>\n",
       "      <td>2</td>\n",
       "      <td>5</td>\n",
       "      <td>5</td>\n",
       "      <td>44</td>\n",
       "      <td>49</td>\n",
       "      <td>46</td>\n",
       "      <td>47</td>\n",
       "      <td>43</td>\n",
       "    </tr>\n",
       "    <tr>\n",
       "      <th>1</th>\n",
       "      <td>2</td>\n",
       "      <td>4</td>\n",
       "      <td>3</td>\n",
       "      <td>3</td>\n",
       "      <td>3</td>\n",
       "      <td>3</td>\n",
       "      <td>1</td>\n",
       "      <td>1</td>\n",
       "      <td>1</td>\n",
       "      <td>1</td>\n",
       "      <td>...</td>\n",
       "      <td>3</td>\n",
       "      <td>3</td>\n",
       "      <td>1</td>\n",
       "      <td>3</td>\n",
       "      <td>2</td>\n",
       "      <td>22</td>\n",
       "      <td>29</td>\n",
       "      <td>35</td>\n",
       "      <td>42</td>\n",
       "      <td>26</td>\n",
       "    </tr>\n",
       "    <tr>\n",
       "      <th>2</th>\n",
       "      <td>5</td>\n",
       "      <td>5</td>\n",
       "      <td>1</td>\n",
       "      <td>2</td>\n",
       "      <td>5</td>\n",
       "      <td>5</td>\n",
       "      <td>1</td>\n",
       "      <td>1</td>\n",
       "      <td>5</td>\n",
       "      <td>5</td>\n",
       "      <td>...</td>\n",
       "      <td>5</td>\n",
       "      <td>5</td>\n",
       "      <td>5</td>\n",
       "      <td>5</td>\n",
       "      <td>5</td>\n",
       "      <td>35</td>\n",
       "      <td>14</td>\n",
       "      <td>38</td>\n",
       "      <td>49</td>\n",
       "      <td>45</td>\n",
       "    </tr>\n",
       "    <tr>\n",
       "      <th>3</th>\n",
       "      <td>2</td>\n",
       "      <td>1</td>\n",
       "      <td>2</td>\n",
       "      <td>2</td>\n",
       "      <td>3</td>\n",
       "      <td>2</td>\n",
       "      <td>3</td>\n",
       "      <td>2</td>\n",
       "      <td>4</td>\n",
       "      <td>1</td>\n",
       "      <td>...</td>\n",
       "      <td>4</td>\n",
       "      <td>5</td>\n",
       "      <td>2</td>\n",
       "      <td>5</td>\n",
       "      <td>5</td>\n",
       "      <td>22</td>\n",
       "      <td>17</td>\n",
       "      <td>37</td>\n",
       "      <td>26</td>\n",
       "      <td>41</td>\n",
       "    </tr>\n",
       "    <tr>\n",
       "      <th>4</th>\n",
       "      <td>3</td>\n",
       "      <td>5</td>\n",
       "      <td>3</td>\n",
       "      <td>3</td>\n",
       "      <td>3</td>\n",
       "      <td>5</td>\n",
       "      <td>3</td>\n",
       "      <td>5</td>\n",
       "      <td>3</td>\n",
       "      <td>1</td>\n",
       "      <td>...</td>\n",
       "      <td>5</td>\n",
       "      <td>3</td>\n",
       "      <td>1</td>\n",
       "      <td>5</td>\n",
       "      <td>3</td>\n",
       "      <td>34</td>\n",
       "      <td>30</td>\n",
       "      <td>44</td>\n",
       "      <td>34</td>\n",
       "      <td>34</td>\n",
       "    </tr>\n",
       "  </tbody>\n",
       "</table>\n",
       "<p>5 rows × 55 columns</p>\n",
       "</div>"
      ],
      "text/plain": [
       "   E1  E2  E3  E4  E5  E6  E7  E8  E9  E10  ...  O6  O7  O8  O9  O10  E_SC  \\\n",
       "0   4   4   5   4   5   5   4   3   5    5  ...   5   4   2   5    5    44   \n",
       "1   2   4   3   3   3   3   1   1   1    1  ...   3   3   1   3    2    22   \n",
       "2   5   5   1   2   5   5   1   1   5    5  ...   5   5   5   5    5    35   \n",
       "3   2   1   2   2   3   2   3   2   4    1  ...   4   5   2   5    5    22   \n",
       "4   3   5   3   3   3   5   3   5   3    1  ...   5   3   1   5    3    34   \n",
       "\n",
       "   N_SC  A_SC  C_SC  O_SC  \n",
       "0    49    46    47    43  \n",
       "1    29    35    42    26  \n",
       "2    14    38    49    45  \n",
       "3    17    37    26    41  \n",
       "4    30    44    34    34  \n",
       "\n",
       "[5 rows x 55 columns]"
      ]
     },
     "execution_count": 4,
     "metadata": {},
     "output_type": "execute_result"
    }
   ],
   "source": [
    "big5.head(5)"
   ]
  },
  {
   "cell_type": "code",
   "execution_count": 5,
   "metadata": {},
   "outputs": [
    {
     "name": "stderr",
     "output_type": "stream",
     "text": [
      "c:\\users\\user\\anaconda3\\envs\\mldl\\lib\\site-packages\\pandas\\core\\indexing.py:1596: SettingWithCopyWarning: \n",
      "A value is trying to be set on a copy of a slice from a DataFrame.\n",
      "Try using .loc[row_indexer,col_indexer] = value instead\n",
      "\n",
      "See the caveats in the documentation: https://pandas.pydata.org/pandas-docs/stable/user_guide/indexing.html#returning-a-view-versus-a-copy\n",
      "  self.obj[key] = _infer_fill_value(value)\n",
      "c:\\users\\user\\anaconda3\\envs\\mldl\\lib\\site-packages\\pandas\\core\\indexing.py:1743: SettingWithCopyWarning: \n",
      "A value is trying to be set on a copy of a slice from a DataFrame.\n",
      "Try using .loc[row_indexer,col_indexer] = value instead\n",
      "\n",
      "See the caveats in the documentation: https://pandas.pydata.org/pandas-docs/stable/user_guide/indexing.html#returning-a-view-versus-a-copy\n",
      "  isetter(ilocs[0], value)\n"
     ]
    }
   ],
   "source": [
    "E_df = big5.loc[:, \"E1\":\"E10\"]\n",
    "E_df.loc[:,\"score\"] = big5.loc[:,\"E_SC\"]"
   ]
  },
  {
   "cell_type": "code",
   "execution_count": 6,
   "metadata": {},
   "outputs": [
    {
     "name": "stderr",
     "output_type": "stream",
     "text": [
      "c:\\users\\user\\anaconda3\\envs\\mldl\\lib\\site-packages\\ipykernel_launcher.py:9: SettingWithCopyWarning: \n",
      "A value is trying to be set on a copy of a slice from a DataFrame.\n",
      "Try using .loc[row_indexer,col_indexer] = value instead\n",
      "\n",
      "See the caveats in the documentation: https://pandas.pydata.org/pandas-docs/stable/user_guide/indexing.html#returning-a-view-versus-a-copy\n",
      "  if __name__ == '__main__':\n"
     ]
    }
   ],
   "source": [
    "categorys = []\n",
    "for val in E_df['score']:\n",
    "    if val < 30:\n",
    "        category = 0\n",
    "    else:\n",
    "        category = 1\n",
    "    categorys.append(category)\n",
    "    \n",
    "E_df['C'] = categorys"
   ]
  },
  {
   "cell_type": "code",
   "execution_count": 7,
   "metadata": {},
   "outputs": [
    {
     "data": {
      "text/html": [
       "<div>\n",
       "<style scoped>\n",
       "    .dataframe tbody tr th:only-of-type {\n",
       "        vertical-align: middle;\n",
       "    }\n",
       "\n",
       "    .dataframe tbody tr th {\n",
       "        vertical-align: top;\n",
       "    }\n",
       "\n",
       "    .dataframe thead th {\n",
       "        text-align: right;\n",
       "    }\n",
       "</style>\n",
       "<table border=\"1\" class=\"dataframe\">\n",
       "  <thead>\n",
       "    <tr style=\"text-align: right;\">\n",
       "      <th></th>\n",
       "      <th>E1</th>\n",
       "      <th>E2</th>\n",
       "      <th>E3</th>\n",
       "      <th>E4</th>\n",
       "      <th>E5</th>\n",
       "      <th>E6</th>\n",
       "      <th>E7</th>\n",
       "      <th>E8</th>\n",
       "      <th>E9</th>\n",
       "      <th>E10</th>\n",
       "      <th>score</th>\n",
       "      <th>C</th>\n",
       "    </tr>\n",
       "  </thead>\n",
       "  <tbody>\n",
       "    <tr>\n",
       "      <th>0</th>\n",
       "      <td>4</td>\n",
       "      <td>4</td>\n",
       "      <td>5</td>\n",
       "      <td>4</td>\n",
       "      <td>5</td>\n",
       "      <td>5</td>\n",
       "      <td>4</td>\n",
       "      <td>3</td>\n",
       "      <td>5</td>\n",
       "      <td>5</td>\n",
       "      <td>44</td>\n",
       "      <td>1</td>\n",
       "    </tr>\n",
       "    <tr>\n",
       "      <th>1</th>\n",
       "      <td>2</td>\n",
       "      <td>4</td>\n",
       "      <td>3</td>\n",
       "      <td>3</td>\n",
       "      <td>3</td>\n",
       "      <td>3</td>\n",
       "      <td>1</td>\n",
       "      <td>1</td>\n",
       "      <td>1</td>\n",
       "      <td>1</td>\n",
       "      <td>22</td>\n",
       "      <td>0</td>\n",
       "    </tr>\n",
       "    <tr>\n",
       "      <th>2</th>\n",
       "      <td>5</td>\n",
       "      <td>5</td>\n",
       "      <td>1</td>\n",
       "      <td>2</td>\n",
       "      <td>5</td>\n",
       "      <td>5</td>\n",
       "      <td>1</td>\n",
       "      <td>1</td>\n",
       "      <td>5</td>\n",
       "      <td>5</td>\n",
       "      <td>35</td>\n",
       "      <td>1</td>\n",
       "    </tr>\n",
       "    <tr>\n",
       "      <th>3</th>\n",
       "      <td>2</td>\n",
       "      <td>1</td>\n",
       "      <td>2</td>\n",
       "      <td>2</td>\n",
       "      <td>3</td>\n",
       "      <td>2</td>\n",
       "      <td>3</td>\n",
       "      <td>2</td>\n",
       "      <td>4</td>\n",
       "      <td>1</td>\n",
       "      <td>22</td>\n",
       "      <td>0</td>\n",
       "    </tr>\n",
       "    <tr>\n",
       "      <th>4</th>\n",
       "      <td>3</td>\n",
       "      <td>5</td>\n",
       "      <td>3</td>\n",
       "      <td>3</td>\n",
       "      <td>3</td>\n",
       "      <td>5</td>\n",
       "      <td>3</td>\n",
       "      <td>5</td>\n",
       "      <td>3</td>\n",
       "      <td>1</td>\n",
       "      <td>34</td>\n",
       "      <td>1</td>\n",
       "    </tr>\n",
       "  </tbody>\n",
       "</table>\n",
       "</div>"
      ],
      "text/plain": [
       "   E1  E2  E3  E4  E5  E6  E7  E8  E9  E10  score  C\n",
       "0   4   4   5   4   5   5   4   3   5    5     44  1\n",
       "1   2   4   3   3   3   3   1   1   1    1     22  0\n",
       "2   5   5   1   2   5   5   1   1   5    5     35  1\n",
       "3   2   1   2   2   3   2   3   2   4    1     22  0\n",
       "4   3   5   3   3   3   5   3   5   3    1     34  1"
      ]
     },
     "execution_count": 7,
     "metadata": {},
     "output_type": "execute_result"
    }
   ],
   "source": [
    "E_df.head()"
   ]
  },
  {
   "cell_type": "code",
   "execution_count": 8,
   "metadata": {},
   "outputs": [],
   "source": [
    "n_features = E_df.loc[:, \"E1\":\"E10\"]\n",
    "target = E_df.pop('C')"
   ]
  },
  {
   "cell_type": "code",
   "execution_count": 9,
   "metadata": {},
   "outputs": [],
   "source": [
    "x_train, x_test, y_train, y_test = train_test_split(n_features, target, shuffle = False, train_size=0.8)\n",
    "X_test = x_test.reset_index(drop=True)"
   ]
  },
  {
   "cell_type": "code",
   "execution_count": 10,
   "metadata": {},
   "outputs": [],
   "source": [
    "normalizer = tf.keras.layers.Normalization(axis = -1)\n",
    "normalizer.adapt(x_train)"
   ]
  },
  {
   "cell_type": "code",
   "execution_count": 11,
   "metadata": {},
   "outputs": [
    {
     "data": {
      "text/plain": [
       "<tf.Tensor: shape=(3, 10), dtype=float32, numpy=\n",
       "array([[ 1.1177529 ,  0.5850355 ,  1.286567  ,  0.95662224,  1.2241367 ,\n",
       "         1.1735576 ,  0.7969921 ,  0.288679  ,  1.3574251 ,  1.9850346 ],\n",
       "       [-0.5061705 ,  0.5850355 , -0.32540873,  0.13651943, -0.32973522,\n",
       "        -0.43395394, -1.2980866 , -1.2873504 , -1.5037984 , -1.0775287 ],\n",
       "       [ 1.9297147 ,  1.3448085 , -1.9373845 , -0.6835834 ,  1.2241367 ,\n",
       "         1.1735576 , -1.2980866 , -1.2873504 ,  1.3574251 ,  1.9850346 ]],\n",
       "      dtype=float32)>"
      ]
     },
     "execution_count": 11,
     "metadata": {},
     "output_type": "execute_result"
    }
   ],
   "source": [
    "normalizer(x_train.iloc[:3])"
   ]
  },
  {
   "cell_type": "code",
   "execution_count": 12,
   "metadata": {},
   "outputs": [],
   "source": [
    "# Hyperparameters\n",
    "\n",
    "batch_size = 32\n",
    "epoch = 50"
   ]
  },
  {
   "cell_type": "code",
   "execution_count": 13,
   "metadata": {},
   "outputs": [],
   "source": [
    "def get_baslc_model(normalizer = None, n1=2, n2=2):\n",
    "    model = tf.keras.Sequential([\n",
    "        normalizer,\n",
    "        tf.keras.layers.Dense(n1, activation = 'relu'),\n",
    "        tf.keras.layers.Dense(n2, activation = 'relu'),\n",
    "        tf.keras.layers.Dense(1, activation = 'sigmoid')\n",
    "    ])\n",
    "    \n",
    "    model.compile(optimizer= 'SGD',\n",
    "                 loss = tf.keras.losses.BinaryCrossentropy(),\n",
    "                 metrics=['accuracy'])\n",
    "    return model"
   ]
  },
  {
   "cell_type": "code",
   "execution_count": 14,
   "metadata": {
    "scrolled": true
   },
   "outputs": [
    {
     "name": "stdout",
     "output_type": "stream",
     "text": [
      "Epoch 1/50\n",
      "493/493 [==============================] - 1s 997us/step - loss: 0.3070 - accuracy: 0.9096\n",
      "Epoch 2/50\n",
      "493/493 [==============================] - 0s 963us/step - loss: 0.1165 - accuracy: 0.9649\n",
      "Epoch 3/50\n",
      "493/493 [==============================] - 1s 1ms/step - loss: 0.0730 - accuracy: 0.9797\n",
      "Epoch 4/50\n",
      "493/493 [==============================] - 0s 963us/step - loss: 0.0519 - accuracy: 0.9890\n",
      "Epoch 5/50\n",
      "493/493 [==============================] - 0s 957us/step - loss: 0.0399 - accuracy: 0.9941\n",
      "Epoch 6/50\n",
      "493/493 [==============================] - 0s 959us/step - loss: 0.0324 - accuracy: 0.9967\n",
      "Epoch 7/50\n",
      "493/493 [==============================] - 0s 958us/step - loss: 0.0272 - accuracy: 0.9978\n",
      "Epoch 8/50\n",
      "493/493 [==============================] - 0s 1ms/step - loss: 0.0233 - accuracy: 0.9986\n",
      "Epoch 9/50\n",
      "493/493 [==============================] - 0s 939us/step - loss: 0.0203 - accuracy: 0.9991\n",
      "Epoch 10/50\n",
      "493/493 [==============================] - 0s 937us/step - loss: 0.0179 - accuracy: 0.9993\n",
      "Epoch 11/50\n",
      "493/493 [==============================] - 0s 934us/step - loss: 0.0159 - accuracy: 0.9995\n",
      "Epoch 12/50\n",
      "493/493 [==============================] - 0s 950us/step - loss: 0.0143 - accuracy: 0.9997\n",
      "Epoch 13/50\n",
      "493/493 [==============================] - 0s 987us/step - loss: 0.0128 - accuracy: 0.9997\n",
      "Epoch 14/50\n",
      "493/493 [==============================] - 0s 963us/step - loss: 0.0116 - accuracy: 0.9998\n",
      "Epoch 15/50\n",
      "493/493 [==============================] - 0s 976us/step - loss: 0.0106 - accuracy: 0.9998\n",
      "Epoch 16/50\n",
      "493/493 [==============================] - 0s 970us/step - loss: 0.0096 - accuracy: 0.9998\n",
      "Epoch 17/50\n",
      "493/493 [==============================] - 0s 987us/step - loss: 0.0088 - accuracy: 0.9999\n",
      "Epoch 18/50\n",
      "493/493 [==============================] - 1s 1ms/step - loss: 0.0081 - accuracy: 0.9999\n",
      "Epoch 19/50\n",
      "493/493 [==============================] - 0s 985us/step - loss: 0.0075 - accuracy: 1.0000\n",
      "Epoch 20/50\n",
      "493/493 [==============================] - 0s 949us/step - loss: 0.0069 - accuracy: 1.0000\n",
      "Epoch 21/50\n",
      "493/493 [==============================] - 0s 997us/step - loss: 0.0064 - accuracy: 1.0000\n",
      "Epoch 22/50\n",
      "493/493 [==============================] - 0s 1ms/step - loss: 0.0059 - accuracy: 1.0000\n",
      "Epoch 23/50\n",
      "493/493 [==============================] - 0s 947us/step - loss: 0.0055 - accuracy: 1.0000\n",
      "Epoch 24/50\n",
      "493/493 [==============================] - 0s 943us/step - loss: 0.0052 - accuracy: 1.0000\n",
      "Epoch 25/50\n",
      "493/493 [==============================] - 0s 953us/step - loss: 0.0048 - accuracy: 1.0000\n",
      "Epoch 26/50\n",
      "493/493 [==============================] - 0s 943us/step - loss: 0.0045 - accuracy: 1.0000\n",
      "Epoch 27/50\n",
      "493/493 [==============================] - 0s 963us/step - loss: 0.0042 - accuracy: 1.0000\n",
      "Epoch 28/50\n",
      "493/493 [==============================] - 0s 957us/step - loss: 0.0040 - accuracy: 1.0000\n",
      "Epoch 29/50\n",
      "493/493 [==============================] - 0s 947us/step - loss: 0.0038 - accuracy: 1.0000\n",
      "Epoch 30/50\n",
      "493/493 [==============================] - 0s 955us/step - loss: 0.0036 - accuracy: 1.0000\n",
      "Epoch 31/50\n",
      "493/493 [==============================] - 0s 961us/step - loss: 0.0034 - accuracy: 1.0000\n",
      "Epoch 32/50\n",
      "493/493 [==============================] - 0s 934us/step - loss: 0.0032 - accuracy: 1.0000\n",
      "Epoch 33/50\n",
      "493/493 [==============================] - 0s 971us/step - loss: 0.0030 - accuracy: 1.0000\n",
      "Epoch 34/50\n",
      "493/493 [==============================] - 0s 975us/step - loss: 0.0029 - accuracy: 1.0000\n",
      "Epoch 35/50\n",
      "493/493 [==============================] - 0s 959us/step - loss: 0.0027 - accuracy: 1.0000\n",
      "Epoch 36/50\n",
      "493/493 [==============================] - 0s 953us/step - loss: 0.0026 - accuracy: 1.0000\n",
      "Epoch 37/50\n",
      "493/493 [==============================] - 0s 933us/step - loss: 0.0025 - accuracy: 1.0000\n",
      "Epoch 38/50\n",
      "493/493 [==============================] - 1s 1ms/step - loss: 0.0024 - accuracy: 1.0000\n",
      "Epoch 39/50\n",
      "493/493 [==============================] - 0s 963us/step - loss: 0.0023 - accuracy: 1.0000\n",
      "Epoch 40/50\n",
      "493/493 [==============================] - 0s 979us/step - loss: 0.0022 - accuracy: 1.0000\n",
      "Epoch 41/50\n",
      "493/493 [==============================] - 0s 983us/step - loss: 0.0021 - accuracy: 1.0000\n",
      "Epoch 42/50\n",
      "493/493 [==============================] - 0s 973us/step - loss: 0.0020 - accuracy: 1.0000\n",
      "Epoch 43/50\n",
      "493/493 [==============================] - 0s 930us/step - loss: 0.0019 - accuracy: 1.0000\n",
      "Epoch 44/50\n",
      "493/493 [==============================] - 0s 953us/step - loss: 0.0019 - accuracy: 1.0000\n",
      "Epoch 45/50\n",
      "493/493 [==============================] - 0s 987us/step - loss: 0.0018 - accuracy: 1.0000\n",
      "Epoch 46/50\n",
      "493/493 [==============================] - 0s 930us/step - loss: 0.0017 - accuracy: 1.0000\n",
      "Epoch 47/50\n",
      "493/493 [==============================] - 0s 975us/step - loss: 0.0017 - accuracy: 1.0000\n",
      "Epoch 48/50\n",
      "493/493 [==============================] - 0s 979us/step - loss: 0.0016 - accuracy: 1.0000\n",
      "Epoch 49/50\n",
      "493/493 [==============================] - 0s 996us/step - loss: 0.0016 - accuracy: 1.0000\n",
      "Epoch 50/50\n",
      "493/493 [==============================] - 1s 2ms/step - loss: 0.0015 - accuracy: 1.0000\n"
     ]
    },
    {
     "data": {
      "text/plain": [
       "<keras.callbacks.History at 0x2749deb2c48>"
      ]
     },
     "execution_count": 14,
     "metadata": {},
     "output_type": "execute_result"
    }
   ],
   "source": [
    "model = get_baslc_model(normalizer=normalizer, n1 = 20, n2 = 20)\n",
    "model.fit(x_train, y_train,\n",
    "          epochs = epoch, batch_size = batch_size)"
   ]
  },
  {
   "cell_type": "code",
   "execution_count": 15,
   "metadata": {},
   "outputs": [
    {
     "name": "stdout",
     "output_type": "stream",
     "text": [
      "3944/3944 [==============================] - 3s 786us/step\n"
     ]
    }
   ],
   "source": [
    "y_pred = model.predict(X_test, batch_size= 1)"
   ]
  },
  {
   "cell_type": "code",
   "execution_count": 16,
   "metadata": {},
   "outputs": [],
   "source": [
    "y_pred_c = []\n",
    "for i in y_pred:\n",
    "    if i < 0.5:\n",
    "        val = 0\n",
    "    else:\n",
    "        val = 1\n",
    "    y_pred_c.append(val)"
   ]
  },
  {
   "cell_type": "code",
   "execution_count": 17,
   "metadata": {
    "scrolled": true
   },
   "outputs": [
    {
     "name": "stdout",
     "output_type": "stream",
     "text": [
      "총 테스트 개수 : 3944, 오류개수 : 0\n",
      "정확도 : 1.00\n"
     ]
    }
   ],
   "source": [
    "print('총 테스트 개수 : %d, 오류개수 : %d' %(len(y_test), (y_test != y_pred_c).sum()))\n",
    "print('정확도 : %.2f' %((len(y_test) - (y_test != y_pred_c).sum()) / len(y_test)))"
   ]
  },
  {
   "cell_type": "code",
   "execution_count": 18,
   "metadata": {},
   "outputs": [],
   "source": [
    "test_accuracy = (len(y_test) - (y_test != y_pred_c).sum()) / len(y_test)"
   ]
  },
  {
   "cell_type": "code",
   "execution_count": 19,
   "metadata": {
    "scrolled": false
   },
   "outputs": [
    {
     "data": {
      "text/html": [
       "<div>\n",
       "<style scoped>\n",
       "    .dataframe tbody tr th:only-of-type {\n",
       "        vertical-align: middle;\n",
       "    }\n",
       "\n",
       "    .dataframe tbody tr th {\n",
       "        vertical-align: top;\n",
       "    }\n",
       "\n",
       "    .dataframe thead th {\n",
       "        text-align: right;\n",
       "    }\n",
       "</style>\n",
       "<table border=\"1\" class=\"dataframe\">\n",
       "  <thead>\n",
       "    <tr style=\"text-align: right;\">\n",
       "      <th></th>\n",
       "      <th>E1</th>\n",
       "      <th>E2</th>\n",
       "      <th>E3</th>\n",
       "      <th>E4</th>\n",
       "      <th>E5</th>\n",
       "      <th>E6</th>\n",
       "      <th>E7</th>\n",
       "      <th>E8</th>\n",
       "      <th>E9</th>\n",
       "      <th>E10</th>\n",
       "    </tr>\n",
       "  </thead>\n",
       "  <tbody>\n",
       "    <tr>\n",
       "      <th>0</th>\n",
       "      <td>5</td>\n",
       "      <td>5</td>\n",
       "      <td>5</td>\n",
       "      <td>5</td>\n",
       "      <td>4</td>\n",
       "      <td>5</td>\n",
       "      <td>5</td>\n",
       "      <td>5</td>\n",
       "      <td>5</td>\n",
       "      <td>4</td>\n",
       "    </tr>\n",
       "    <tr>\n",
       "      <th>1</th>\n",
       "      <td>2</td>\n",
       "      <td>3</td>\n",
       "      <td>4</td>\n",
       "      <td>1</td>\n",
       "      <td>4</td>\n",
       "      <td>3</td>\n",
       "      <td>3</td>\n",
       "      <td>1</td>\n",
       "      <td>1</td>\n",
       "      <td>2</td>\n",
       "    </tr>\n",
       "    <tr>\n",
       "      <th>2</th>\n",
       "      <td>1</td>\n",
       "      <td>4</td>\n",
       "      <td>3</td>\n",
       "      <td>4</td>\n",
       "      <td>3</td>\n",
       "      <td>3</td>\n",
       "      <td>2</td>\n",
       "      <td>3</td>\n",
       "      <td>3</td>\n",
       "      <td>1</td>\n",
       "    </tr>\n",
       "    <tr>\n",
       "      <th>3</th>\n",
       "      <td>4</td>\n",
       "      <td>5</td>\n",
       "      <td>4</td>\n",
       "      <td>3</td>\n",
       "      <td>4</td>\n",
       "      <td>4</td>\n",
       "      <td>5</td>\n",
       "      <td>4</td>\n",
       "      <td>5</td>\n",
       "      <td>4</td>\n",
       "    </tr>\n",
       "    <tr>\n",
       "      <th>4</th>\n",
       "      <td>2</td>\n",
       "      <td>1</td>\n",
       "      <td>3</td>\n",
       "      <td>3</td>\n",
       "      <td>2</td>\n",
       "      <td>2</td>\n",
       "      <td>1</td>\n",
       "      <td>2</td>\n",
       "      <td>3</td>\n",
       "      <td>1</td>\n",
       "    </tr>\n",
       "    <tr>\n",
       "      <th>...</th>\n",
       "      <td>...</td>\n",
       "      <td>...</td>\n",
       "      <td>...</td>\n",
       "      <td>...</td>\n",
       "      <td>...</td>\n",
       "      <td>...</td>\n",
       "      <td>...</td>\n",
       "      <td>...</td>\n",
       "      <td>...</td>\n",
       "      <td>...</td>\n",
       "    </tr>\n",
       "    <tr>\n",
       "      <th>3939</th>\n",
       "      <td>1</td>\n",
       "      <td>2</td>\n",
       "      <td>3</td>\n",
       "      <td>1</td>\n",
       "      <td>4</td>\n",
       "      <td>3</td>\n",
       "      <td>1</td>\n",
       "      <td>4</td>\n",
       "      <td>1</td>\n",
       "      <td>1</td>\n",
       "    </tr>\n",
       "    <tr>\n",
       "      <th>3940</th>\n",
       "      <td>2</td>\n",
       "      <td>3</td>\n",
       "      <td>2</td>\n",
       "      <td>3</td>\n",
       "      <td>2</td>\n",
       "      <td>3</td>\n",
       "      <td>2</td>\n",
       "      <td>2</td>\n",
       "      <td>4</td>\n",
       "      <td>2</td>\n",
       "    </tr>\n",
       "    <tr>\n",
       "      <th>3941</th>\n",
       "      <td>2</td>\n",
       "      <td>1</td>\n",
       "      <td>4</td>\n",
       "      <td>1</td>\n",
       "      <td>5</td>\n",
       "      <td>1</td>\n",
       "      <td>1</td>\n",
       "      <td>4</td>\n",
       "      <td>1</td>\n",
       "      <td>1</td>\n",
       "    </tr>\n",
       "    <tr>\n",
       "      <th>3942</th>\n",
       "      <td>1</td>\n",
       "      <td>2</td>\n",
       "      <td>2</td>\n",
       "      <td>3</td>\n",
       "      <td>2</td>\n",
       "      <td>2</td>\n",
       "      <td>1</td>\n",
       "      <td>3</td>\n",
       "      <td>4</td>\n",
       "      <td>1</td>\n",
       "    </tr>\n",
       "    <tr>\n",
       "      <th>3943</th>\n",
       "      <td>2</td>\n",
       "      <td>3</td>\n",
       "      <td>1</td>\n",
       "      <td>1</td>\n",
       "      <td>3</td>\n",
       "      <td>3</td>\n",
       "      <td>3</td>\n",
       "      <td>4</td>\n",
       "      <td>2</td>\n",
       "      <td>2</td>\n",
       "    </tr>\n",
       "  </tbody>\n",
       "</table>\n",
       "<p>3944 rows × 10 columns</p>\n",
       "</div>"
      ],
      "text/plain": [
       "      E1  E2  E3  E4  E5  E6  E7  E8  E9  E10\n",
       "0      5   5   5   5   4   5   5   5   5    4\n",
       "1      2   3   4   1   4   3   3   1   1    2\n",
       "2      1   4   3   4   3   3   2   3   3    1\n",
       "3      4   5   4   3   4   4   5   4   5    4\n",
       "4      2   1   3   3   2   2   1   2   3    1\n",
       "...   ..  ..  ..  ..  ..  ..  ..  ..  ..  ...\n",
       "3939   1   2   3   1   4   3   1   4   1    1\n",
       "3940   2   3   2   3   2   3   2   2   4    2\n",
       "3941   2   1   4   1   5   1   1   4   1    1\n",
       "3942   1   2   2   3   2   2   1   3   4    1\n",
       "3943   2   3   1   1   3   3   3   4   2    2\n",
       "\n",
       "[3944 rows x 10 columns]"
      ]
     },
     "execution_count": 19,
     "metadata": {},
     "output_type": "execute_result"
    }
   ],
   "source": [
    "X_test"
   ]
  },
  {
   "cell_type": "code",
   "execution_count": 20,
   "metadata": {
    "scrolled": true
   },
   "outputs": [
    {
     "name": "stdout",
     "output_type": "stream",
     "text": [
      "3944/3944 [==============================] - 3s 758us/step\n",
      "3944/3944 [==============================] - 3s 743us/step\n",
      "3944/3944 [==============================] - 3s 727us/step\n",
      "3944/3944 [==============================] - 3s 744us/step\n",
      "3944/3944 [==============================] - 3s 724us/step\n",
      "3944/3944 [==============================] - 3s 744us/step\n",
      "3944/3944 [==============================] - 3s 738us/step\n",
      "3944/3944 [==============================] - 3s 745us/step\n",
      "3944/3944 [==============================] - 3s 744us/step\n",
      "3944/3944 [==============================] - 3s 743us/step\n",
      "{'E1': 0.9510649087221096, 'E2': 0.9546146044624746, 'E3': 0.9563894523326572, 'E4': 0.9556288032454361, 'E5': 0.9546146044624746, 'E6': 0.947261663286004, 'E7': 0.9432048681541582, 'E8': 0.9523326572008114, 'E9': 0.9424442190669371, 'E10': 0.9513184584178499}\n"
     ]
    }
   ],
   "source": [
    "shuffled_scores = {}\n",
    "\n",
    "for feature in X_test.columns:\n",
    "    copy = X_test.copy()\n",
    "    random.shuffle(copy.loc[:, feature])\n",
    "#     print(copy)\n",
    "    shuffled_pred = model.predict(copy, batch_size = 1)\n",
    "    \n",
    "    shuffled_pred_c = []\n",
    "    for i in shuffled_pred:\n",
    "        if i < 0.5:\n",
    "            val = 0\n",
    "        else:\n",
    "            val = 1\n",
    "        shuffled_pred_c.append(val)\n",
    "    \n",
    "    shuffled_score = (len(y_test) - (y_test != shuffled_pred_c).sum()) / len(y_test)\n",
    "    shuffled_scores[feature] = shuffled_score\n",
    "\n",
    "print(shuffled_scores)"
   ]
  },
  {
   "cell_type": "code",
   "execution_count": 21,
   "metadata": {
    "scrolled": true
   },
   "outputs": [
    {
     "name": "stdout",
     "output_type": "stream",
     "text": [
      "Original Classfication Accuracy : 1.0000\n",
      "1 high importance shuffled Accuracy : E9 0.9424\n",
      "2 high importance shuffled Accuracy : E7 0.9432\n",
      "3 high importance shuffled Accuracy : E6 0.9473\n",
      "4 high importance shuffled Accuracy : E1 0.9511\n",
      "5 high importance shuffled Accuracy : E10 0.9513\n",
      "6 high importance shuffled Accuracy : E8 0.9523\n",
      "7 high importance shuffled Accuracy : E2 0.9546\n",
      "8 high importance shuffled Accuracy : E5 0.9546\n",
      "9 high importance shuffled Accuracy : E4 0.9556\n",
      "10 high importance shuffled Accuracy : E3 0.9564\n"
     ]
    }
   ],
   "source": [
    "print(\"Original Classfication Accuracy : %.4f\"%(test_accuracy))\n",
    "for n in range(len(X_test.columns)):\n",
    "    print(\"%s high importance shuffled Accuracy : %s %.4f\" %(n+1, sorted(shuffled_scores.items(), key=lambda item : item[1])[n][0], sorted(shuffled_scores.items(), key=lambda item : item[1])[n][1]))"
   ]
  },
  {
   "cell_type": "markdown",
   "metadata": {},
   "source": [
    "### Plus, Minus\n",
    "\n",
    "E1\tI am the life of the party. (+)\n",
    "\n",
    "E2\tI don't talk a lot. (-)\n",
    "\n",
    "E3\tI feel comfortable around people. (+)\n",
    "\n",
    "E4\tI keep in the background. (-)\n",
    "\n",
    "E5\tI start conversations. (+)\n",
    "\n",
    "E6\tI have little to say. (-)\n",
    "\n",
    "E7\tI talk to a lot of different people at parties. (+)\n",
    "\n",
    "E8\tI don't like to draw attention to myself. (-)\n",
    "\n",
    "E9\tI don't mind being the center of attention. (+)\n",
    "\n",
    "E10\tI am quiet around strangers. (-)"
   ]
  },
  {
   "cell_type": "code",
   "execution_count": 24,
   "metadata": {
    "scrolled": false
   },
   "outputs": [
    {
     "name": "stdout",
     "output_type": "stream",
     "text": [
      "3944/3944 [==============================] - 3s 707us/step\n",
      "총 테스트 개수 : 3944, 오류개수 : 674\n",
      "정확도 : 0.83\n"
     ]
    },
    {
     "data": {
      "image/png": "[encoded data removed]",
      "text/plain": [
       "<Figure size 864x720 with 1 Axes>"
      ]
     },
     "metadata": {
      "needs_background": "light"
     },
     "output_type": "display_data"
    }
   ],
   "source": [
    "E2_x_train = x_train.loc[:, [\"E9\", \"E6\"]]\n",
    "E2_x_test = x_test.loc[:, [\"E9\", \"E6\"]]\n",
    "\n",
    "new_normalizer = tf.keras.layers.Normalization(axis = -1)\n",
    "new_normalizer.adapt(E2_x_train)\n",
    "\n",
    "new_model = get_baslc_model(normalizer=new_normalizer, n1 = 2, n2 = 2)\n",
    "hist = new_model.fit(E2_x_train, y_train, epochs = 500, batch_size = batch_size, verbose=0)\n",
    "\n",
    "new_y_pred = new_model.predict(E2_x_test, batch_size= 1)\n",
    "\n",
    "new_y_pred_c = []\n",
    "for i in new_y_pred:\n",
    "    if i < 0.5:\n",
    "        val = 0\n",
    "    else:\n",
    "        val = 1\n",
    "    new_y_pred_c.append(val)\n",
    "    \n",
    "print('총 테스트 개수 : %d, 오류개수 : %d' %(len(y_test), (y_test != new_y_pred_c).sum()))\n",
    "print('정확도 : %.2f' %((len(y_test) - (y_test != new_y_pred_c).sum()) / len(y_test)))\n",
    "\n",
    "plt.figure(figsize = (10, 8))\n",
    "plt.plot(hist.history['loss'])\n",
    "plt.xlabel('epochs')\n",
    "plt.ylabel('loss')\n",
    "plt.show()"
   ]
  },
  {
   "cell_type": "code",
   "execution_count": 27,
   "metadata": {},
   "outputs": [
    {
     "name": "stdout",
     "output_type": "stream",
     "text": [
      "3944/3944 [==============================] - 3s 708us/step\n",
      "총 테스트 개수 : 3944, 오류개수 : 674\n",
      "정확도 : 0.83\n"
     ]
    },
    {
     "data": {
      "image/png": "[encoded data removed]",
      "text/plain": [
       "<Figure size 720x576 with 1 Axes>"
      ]
     },
     "metadata": {
      "needs_background": "light"
     },
     "output_type": "display_data"
    }
   ],
   "source": [
    "E2_x_train = x_train.loc[:, [\"E9\", \"E6\"]]\n",
    "E2_x_test = x_test.loc[:, [\"E9\", \"E6\"]]\n",
    "\n",
    "new_normalizer = tf.keras.layers.Normalization(axis = -1)\n",
    "new_normalizer.adapt(E2_x_train)\n",
    "\n",
    "new_model = get_baslc_model(normalizer=new_normalizer, n1 = 4, n2 = 4)\n",
    "hist = new_model.fit(E2_x_train, y_train, epochs = 500, batch_size = batch_size, verbose=0)\n",
    "\n",
    "new_y_pred = new_model.predict(E2_x_test, batch_size= 1)\n",
    "\n",
    "new_y_pred_c = []\n",
    "for i in new_y_pred:\n",
    "    if i < 0.5:\n",
    "        val = 0\n",
    "    else:\n",
    "        val = 1\n",
    "    new_y_pred_c.append(val)\n",
    "    \n",
    "print('총 테스트 개수 : %d, 오류개수 : %d' %(len(y_test), (y_test != new_y_pred_c).sum()))\n",
    "print('정확도 : %.2f' %((len(y_test) - (y_test != new_y_pred_c).sum()) / len(y_test)))\n",
    "\n",
    "plt.figure(figsize = (10, 8))\n",
    "plt.plot(hist.history['loss'])\n",
    "plt.xlabel('epochs')\n",
    "plt.ylabel('loss')\n",
    "plt.show()"
   ]
  },
  {
   "cell_type": "code",
   "execution_count": 28,
   "metadata": {},
   "outputs": [
    {
     "name": "stdout",
     "output_type": "stream",
     "text": [
      "3944/3944 [==============================] - 3s 718us/step\n",
      "총 테스트 개수 : 3944, 오류개수 : 686\n",
      "정확도 : 0.83\n"
     ]
    },
    {
     "data": {
      "image/png": "[encoded data removed]",
      "text/plain": [
       "<Figure size 720x576 with 1 Axes>"
      ]
     },
     "metadata": {
      "needs_background": "light"
     },
     "output_type": "display_data"
    }
   ],
   "source": [
    "E2_x_train = x_train.loc[:, [\"E9\", \"E6\"]]\n",
    "E2_x_test = x_test.loc[:, [\"E9\", \"E6\"]]\n",
    "\n",
    "new_normalizer = tf.keras.layers.Normalization(axis = -1)\n",
    "new_normalizer.adapt(E2_x_train)\n",
    "\n",
    "new_model = get_baslc_model(normalizer=new_normalizer, n1 = 6, n2 = 6)\n",
    "hist = new_model.fit(E2_x_train, y_train, epochs = 500, batch_size = batch_size, verbose=0)\n",
    "\n",
    "new_y_pred = new_model.predict(E2_x_test, batch_size= 1)\n",
    "\n",
    "new_y_pred_c = []\n",
    "for i in new_y_pred:\n",
    "    if i < 0.5:\n",
    "        val = 0\n",
    "    else:\n",
    "        val = 1\n",
    "    new_y_pred_c.append(val)\n",
    "    \n",
    "print('총 테스트 개수 : %d, 오류개수 : %d' %(len(y_test), (y_test != new_y_pred_c).sum()))\n",
    "print('정확도 : %.2f' %((len(y_test) - (y_test != new_y_pred_c).sum()) / len(y_test)))\n",
    "\n",
    "plt.figure(figsize = (10, 8))\n",
    "plt.plot(hist.history['loss'])\n",
    "plt.xlabel('epochs')\n",
    "plt.ylabel('loss')\n",
    "plt.show()"
   ]
  },
  {
   "cell_type": "code",
   "execution_count": 25,
   "metadata": {
    "scrolled": false
   },
   "outputs": [
    {
     "name": "stdout",
     "output_type": "stream",
     "text": [
      "3944/3944 [==============================] - 3s 720us/step\n",
      "총 테스트 개수 : 3944, 오류개수 : 343\n",
      "정확도 : 0.91\n"
     ]
    },
    {
     "data": {
      "image/png": "[encoded data removed]",
      "text/plain": [
       "<Figure size 720x576 with 1 Axes>"
      ]
     },
     "metadata": {
      "needs_background": "light"
     },
     "output_type": "display_data"
    }
   ],
   "source": [
    "E4_x_train = x_train.loc[:, [\"E9\", \"E6\",\"E7\", \"E10\"]]\n",
    "E4_x_test = x_test.loc[:, [\"E9\", \"E6\", \"E7\", \"E10\"]]\n",
    "\n",
    "new_normalizer = tf.keras.layers.Normalization(axis = -1)\n",
    "new_normalizer.adapt(E4_x_train)\n",
    "\n",
    "new_model = get_baslc_model(normalizer=new_normalizer, n1 = 2, n2 = 2)\n",
    "hist = new_model.fit(E4_x_train, y_train, epochs = 500, batch_size = batch_size, verbose=0)\n",
    "\n",
    "new_y_pred = new_model.predict(E4_x_test, batch_size= 1)\n",
    "\n",
    "new_y_pred_c = []\n",
    "for i in new_y_pred:\n",
    "    if i < 0.5:\n",
    "        val = 0\n",
    "    else:\n",
    "        val = 1\n",
    "    new_y_pred_c.append(val)\n",
    "    \n",
    "print('총 테스트 개수 : %d, 오류개수 : %d' %(len(y_test), (y_test != new_y_pred_c).sum()))\n",
    "print('정확도 : %.2f' %((len(y_test) - (y_test != new_y_pred_c).sum()) / len(y_test)))\n",
    "\n",
    "plt.figure(figsize = (10, 8))\n",
    "plt.plot(hist.history['loss'])\n",
    "plt.xlabel('epochs')\n",
    "plt.ylabel('loss')\n",
    "plt.show()"
   ]
  },
  {
   "cell_type": "code",
   "execution_count": 29,
   "metadata": {},
   "outputs": [
    {
     "name": "stdout",
     "output_type": "stream",
     "text": [
      "3944/3944 [==============================] - 3s 715us/step\n",
      "총 테스트 개수 : 3944, 오류개수 : 348\n",
      "정확도 : 0.91\n"
     ]
    },
    {
     "data": {
      "image/png": "[encoded data removed]",
      "text/plain": [
       "<Figure size 720x576 with 1 Axes>"
      ]
     },
     "metadata": {
      "needs_background": "light"
     },
     "output_type": "display_data"
    }
   ],
   "source": [
    "E4_x_train = x_train.loc[:, [\"E9\", \"E6\",\"E7\", \"E10\"]]\n",
    "E4_x_test = x_test.loc[:, [\"E9\", \"E6\", \"E7\", \"E10\"]]\n",
    "\n",
    "new_normalizer = tf.keras.layers.Normalization(axis = -1)\n",
    "new_normalizer.adapt(E4_x_train)\n",
    "\n",
    "new_model = get_baslc_model(normalizer=new_normalizer, n1 = 4, n2 = 4)\n",
    "hist = new_model.fit(E4_x_train, y_train, epochs = 500, batch_size = batch_size, verbose=0)\n",
    "\n",
    "new_y_pred = new_model.predict(E4_x_test, batch_size= 1)\n",
    "\n",
    "new_y_pred_c = []\n",
    "for i in new_y_pred:\n",
    "    if i < 0.5:\n",
    "        val = 0\n",
    "    else:\n",
    "        val = 1\n",
    "    new_y_pred_c.append(val)\n",
    "    \n",
    "print('총 테스트 개수 : %d, 오류개수 : %d' %(len(y_test), (y_test != new_y_pred_c).sum()))\n",
    "print('정확도 : %.2f' %((len(y_test) - (y_test != new_y_pred_c).sum()) / len(y_test)))\n",
    "\n",
    "plt.figure(figsize = (10, 8))\n",
    "plt.plot(hist.history['loss'])\n",
    "plt.xlabel('epochs')\n",
    "plt.ylabel('loss')\n",
    "plt.show()"
   ]
  },
  {
   "cell_type": "code",
   "execution_count": 30,
   "metadata": {},
   "outputs": [
    {
     "name": "stdout",
     "output_type": "stream",
     "text": [
      "3944/3944 [==============================] - 3s 743us/step\n",
      "총 테스트 개수 : 3944, 오류개수 : 353\n",
      "정확도 : 0.91\n"
     ]
    },
    {
     "data": {
      "image/png": "[encoded data removed]",
      "text/plain": [
       "<Figure size 720x576 with 1 Axes>"
      ]
     },
     "metadata": {
      "needs_background": "light"
     },
     "output_type": "display_data"
    }
   ],
   "source": [
    "E4_x_train = x_train.loc[:, [\"E9\", \"E6\",\"E7\", \"E10\"]]\n",
    "E4_x_test = x_test.loc[:, [\"E9\", \"E6\", \"E7\", \"E10\"]]\n",
    "\n",
    "new_normalizer = tf.keras.layers.Normalization(axis = -1)\n",
    "new_normalizer.adapt(E4_x_train)\n",
    "\n",
    "new_model = get_baslc_model(normalizer=new_normalizer, n1 = 8, n2 = 8)\n",
    "hist = new_model.fit(E4_x_train, y_train, epochs = 500, batch_size = batch_size, verbose=0)\n",
    "\n",
    "new_y_pred = new_model.predict(E4_x_test, batch_size= 1)\n",
    "\n",
    "new_y_pred_c = []\n",
    "for i in new_y_pred:\n",
    "    if i < 0.5:\n",
    "        val = 0\n",
    "    else:\n",
    "        val = 1\n",
    "    new_y_pred_c.append(val)\n",
    "    \n",
    "print('총 테스트 개수 : %d, 오류개수 : %d' %(len(y_test), (y_test != new_y_pred_c).sum()))\n",
    "print('정확도 : %.2f' %((len(y_test) - (y_test != new_y_pred_c).sum()) / len(y_test)))\n",
    "\n",
    "plt.figure(figsize = (10, 8))\n",
    "plt.plot(hist.history['loss'])\n",
    "plt.xlabel('epochs')\n",
    "plt.ylabel('loss')\n",
    "plt.show()"
   ]
  },
  {
   "cell_type": "code",
   "execution_count": 26,
   "metadata": {},
   "outputs": [
    {
     "name": "stdout",
     "output_type": "stream",
     "text": [
      "3944/3944 [==============================] - 3s 721us/step\n",
      "총 테스트 개수 : 3944, 오류개수 : 263\n",
      "정확도 : 0.93\n"
     ]
    },
    {
     "data": {
      "image/png": "[encoded data removed]",
      "text/plain": [
       "<Figure size 720x576 with 1 Axes>"
      ]
     },
     "metadata": {
      "needs_background": "light"
     },
     "output_type": "display_data"
    }
   ],
   "source": [
    "E6_x_train = x_train.loc[:, [\"E9\", \"E6\", \"E7\", \"E10\", \"E1\", \"E8\"]]\n",
    "E6_x_test = x_test.loc[:, [\"E9\", \"E6\", \"E7\", \"E10\", \"E1\", \"E8\"]]\n",
    "\n",
    "new_normalizer = tf.keras.layers.Normalization(axis = -1)\n",
    "new_normalizer.adapt(E6_x_train)\n",
    "\n",
    "new_model = get_baslc_model(normalizer=new_normalizer)\n",
    "hist = new_model.fit(E6_x_train, y_train, epochs = 500, batch_size = batch_size, verbose=0)\n",
    "\n",
    "new_y_pred = new_model.predict(E6_x_test, batch_size= 1)\n",
    "\n",
    "new_y_pred_c = []\n",
    "for i in new_y_pred:\n",
    "    if i < 0.5:\n",
    "        val = 0\n",
    "    else:\n",
    "        val = 1\n",
    "    new_y_pred_c.append(val)\n",
    "    \n",
    "print('총 테스트 개수 : %d, 오류개수 : %d' %(len(y_test), (y_test != new_y_pred_c).sum()))\n",
    "print('정확도 : %.2f' %((len(y_test) - (y_test != new_y_pred_c).sum()) / len(y_test)))\n",
    "\n",
    "plt.figure(figsize = (10, 8))\n",
    "plt.plot(hist.history['loss'])\n",
    "plt.xlabel('epochs')\n",
    "plt.ylabel('loss')\n",
    "plt.show()"
   ]
  },
  {
   "cell_type": "code",
   "execution_count": 31,
   "metadata": {},
   "outputs": [
    {
     "name": "stdout",
     "output_type": "stream",
     "text": [
      "3944/3944 [==============================] - 3s 739us/step\n",
      "총 테스트 개수 : 3944, 오류개수 : 270\n",
      "정확도 : 0.93\n"
     ]
    },
    {
     "data": {
      "image/png": "[encoded data removed]",
      "text/plain": [
       "<Figure size 720x576 with 1 Axes>"
      ]
     },
     "metadata": {
      "needs_background": "light"
     },
     "output_type": "display_data"
    }
   ],
   "source": [
    "E6_x_train = x_train.loc[:, [\"E9\", \"E6\", \"E7\", \"E10\", \"E1\", \"E8\"]]\n",
    "E6_x_test = x_test.loc[:, [\"E9\", \"E6\", \"E7\", \"E10\", \"E1\", \"E8\"]]\n",
    "\n",
    "new_normalizer = tf.keras.layers.Normalization(axis = -1)\n",
    "new_normalizer.adapt(E6_x_train)\n",
    "\n",
    "new_model = get_baslc_model(normalizer=new_normalizer, n1= 8, n2 = 8)\n",
    "hist = new_model.fit(E6_x_train, y_train, epochs = 500, batch_size = batch_size, verbose=0)\n",
    "\n",
    "new_y_pred = new_model.predict(E6_x_test, batch_size= 1)\n",
    "\n",
    "new_y_pred_c = []\n",
    "for i in new_y_pred:\n",
    "    if i < 0.5:\n",
    "        val = 0\n",
    "    else:\n",
    "        val = 1\n",
    "    new_y_pred_c.append(val)\n",
    "    \n",
    "print('총 테스트 개수 : %d, 오류개수 : %d' %(len(y_test), (y_test != new_y_pred_c).sum()))\n",
    "print('정확도 : %.2f' %((len(y_test) - (y_test != new_y_pred_c).sum()) / len(y_test)))\n",
    "\n",
    "plt.figure(figsize = (10, 8))\n",
    "plt.plot(hist.history['loss'])\n",
    "plt.xlabel('epochs')\n",
    "plt.ylabel('loss')\n",
    "plt.show()"
   ]
  },
  {
   "cell_type": "code",
   "execution_count": null,
   "metadata": {},
   "outputs": [],
   "source": []
  }
 ],
 "metadata": {
  "kernelspec": {
   "display_name": "Python 3",
   "language": "python",
   "name": "python3"
  },
  "language_info": {
   "codemirror_mode": {
    "name": "ipython",
    "version": 3
   },
   "file_extension": ".py",
   "mimetype": "text/x-python",
   "name": "python",
   "nbconvert_exporter": "python",
   "pygments_lexer": "ipython3",
   "version": "3.7.9"
  }
 },
 "nbformat": 4,
 "nbformat_minor": 5
}
